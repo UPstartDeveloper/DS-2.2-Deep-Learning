{
 "cells": [
  {
   "cell_type": "markdown",
   "metadata": {},
   "source": [
    "# HW 1 and Concepts Review"
   ]
  },
  {
   "cell_type": "markdown",
   "metadata": {},
   "source": [
    "- Ways to Optimize Logistic Regression --> L1 and L2 regularization (placing limits on the data)\n",
    "\n",
    "- Linear/Logistic Regression - control this by using the activation function in the network\n",
    "\n",
    "- Single layer NN --> only need to add one MLP layer, and specify the dim of the input using input_dim = x.shape[1]\n",
    "\n",
    "- can also pass in validation data on training step\n",
    "\n",
    "- Remember:\n",
    "\n",
    "    - Regression: - (Boston Housing)\n",
    "        - 1 output neuron\n",
    "        - loss is mse\n",
    "        - activiation can be linear or relu\n",
    "        \n",
    "    - Binary classificiation (Pima Indians Diabetes)\n",
    "        - 1 output neuron\n",
    "        - loss is binary cross entropy\n",
    "        - activation = sigmoid\n",
    "        \n",
    " - Remember \n",
    "     optimizers:\n",
    "     - sgd\n",
    "     - rmsprop\n",
    "     \n",
    "     all the Dense layers represent is a collection of perceptrons - each of these always has an activation function:\n",
    "         - inputs * weights\n",
    "         - summation and then add bias\n",
    "         - then pass to activation function\n",
    "         - and pass the output on to the next layer\n",
    "         \n",
    " - when we do TL, the params are non trainable\n",
    " - Question: can we go over how to calculate the number of total params?\n",
    " \n",
    " \n",
    " - the kind of model that the NN represents is an amalgam of the activation functions being used (to form the decision boundary)!\n",
    " \n",
    " \n",
    "- dimensiosn of an image processed by a Conv layer != the dim of the input image. Depends on:\n",
    "    - input dim\n",
    "    - kernel dim\n",
    "    - and stride length"
   ]
  },
  {
   "cell_type": "markdown",
   "metadata": {},
   "source": [
    "# Activities"
   ]
  },
  {
   "cell_type": "markdown",
   "metadata": {},
   "source": [
    "Instructions from Milad:\n",
    "\n",
    "Create a NN model in Keras with following specifications:\n",
    "\n",
    "1. Two hidden layers with your choice of neurons at each layer\n",
    "\n",
    "2. Train your model and plot the prediction versus true values in a graph"
   ]
  },
  {
   "cell_type": "code",
   "execution_count": 4,
   "metadata": {},
   "outputs": [],
   "source": [
    "import keras\n",
    "from keras.layers import Dense\n",
    "from keras.models import Sequential\n",
    "# Set random seed\n",
    "import numpy as np\n",
    "import matplotlib.pyplot as plt\n",
    "np.random.seed(0)\n",
    "# Create random dataset of m training x values between -5 and 5\n",
    "m = 100\n",
    "x_train = np.random.rand(m)*10 - 5\n",
    "# Create evenly spaced test x values (for plotting)\n",
    "x_test  = np.linspace(-5, 5, 100)\n",
    "\n",
    "def f(x):\n",
    "    return 0.1*(x + x**2 + 10*x + 0.5*x**2 - 0.5*x**3)*x\n",
    "\n",
    "y_train = f(x_train) + np.random.randn(m)   # polynomial plus noise\n",
    "x_train = np.array(x_train).reshape(-1, 1)\n",
    "x_test = np.array(x_test).reshape(-1, 1)"
   ]
  },
  {
   "cell_type": "code",
   "execution_count": 32,
   "metadata": {},
   "outputs": [],
   "source": [
    "model = Sequential()\n",
    "\n",
    "model.add(Dense(100, input_shape=(1,), activation='relu'))  # if we use input_dim, then u can use x.shape(1)\n",
    "model.add(Dense(50, activation='tanh'))\n",
    "model.add(Dense(1, activation='linear'))\n",
    "\n",
    "model.compile(optimizer='rmsprop', loss='mse', metrics=[\"accuracy\"])"
   ]
  },
  {
   "cell_type": "code",
   "execution_count": 33,
   "metadata": {},
   "outputs": [
    {
     "name": "stdout",
     "output_type": "stream",
     "text": [
      "_________________________________________________________________\n",
      "Layer (type)                 Output Shape              Param #   \n",
      "=================================================================\n",
      "dense_14 (Dense)             (None, 100)               200       \n",
      "_________________________________________________________________\n",
      "dense_15 (Dense)             (None, 50)                5050      \n",
      "_________________________________________________________________\n",
      "dense_16 (Dense)             (None, 1)                 51        \n",
      "=================================================================\n",
      "Total params: 5,301\n",
      "Trainable params: 5,301\n",
      "Non-trainable params: 0\n",
      "_________________________________________________________________\n"
     ]
    }
   ],
   "source": [
    "model.summary()"
   ]
  },
  {
   "cell_type": "code",
   "execution_count": 34,
   "metadata": {},
   "outputs": [],
   "source": [
    "history = model.fit(x_train, y_train, epochs=200, batch_size=10, verbose=0)"
   ]
  },
  {
   "cell_type": "code",
   "execution_count": 39,
   "metadata": {},
   "outputs": [
    {
     "data": {
      "image/png": "[encoded data removed]",
      "text/plain": [
       "<Figure size 432x288 with 1 Axes>"
      ]
     },
     "metadata": {
      "needs_background": "light"
     },
     "output_type": "display_data"
    }
   ],
   "source": [
    " # accuracy plot\n",
    "    \n",
    "y_pred = model.predict(x_test)\n",
    "plt.plot(x_train, y_train, 'b.')  # 'b. makes a 'blue scatter plot'\n",
    "plt.plot(x_test, y_pred, 'r')\n",
    "plt.legend(['train', 'test'], loc='upper left')\n",
    "plt.show()"
   ]
  },
  {
   "cell_type": "code",
   "execution_count": 45,
   "metadata": {},
   "outputs": [],
   "source": [
    "# Obtaining the weights and biases of a trained NN model in Keras\n",
    "# credit to this link: B_Input_Hidden = model.layers[0].get_weights()[1]\n",
    "def get_weights_and_biases(model, layer_num):\n",
    "    return model.layers[layer_num].get_weights()"
   ]
  },
  {
   "cell_type": "code",
   "execution_count": 46,
   "metadata": {},
   "outputs": [
    {
     "name": "stdout",
     "output_type": "stream",
     "text": [
      "first layer weights and biases\n",
      "[[ 2.15883434e-01 -1.10729545e-01  1.64377078e-01  1.92367405e-01\n",
      "   1.40370578e-01 -9.94098783e-02  6.54776096e-02 -1.55782610e-01\n",
      "  -1.05598100e-01 -5.93706630e-02  4.61637229e-02 -1.40643060e-01\n",
      "  -6.25400469e-02  5.00646606e-02  5.39569855e-02 -5.95640764e-02\n",
      "  -1.88870206e-01 -4.58976217e-02  4.38118763e-02  4.57983874e-02\n",
      "   1.14502795e-01 -9.07479078e-02 -1.40568286e-01 -9.80086550e-02\n",
      "  -7.08043501e-02 -5.98119609e-02  5.33110276e-02  2.94481460e-02\n",
      "   1.66552186e-01  1.63259581e-01 -1.80108666e-01  9.01984274e-02\n",
      "   6.30561337e-02 -1.01620220e-01  1.27600670e-01 -7.15084970e-02\n",
      "   1.63931966e-01  5.80667928e-02 -5.30175753e-02  2.14945868e-01\n",
      "   8.07076395e-02 -1.05938278e-01  2.59318165e-02 -1.39749497e-01\n",
      "  -6.31862804e-02  2.12140590e-01  1.87929973e-01  1.88655918e-04\n",
      "  -1.24998041e-03 -4.81172241e-02  7.96355456e-02 -2.41209492e-01\n",
      "   1.53960735e-01  6.66606724e-02  5.24799228e-02  7.68097416e-02\n",
      "  -8.88162628e-02  1.81781256e-03 -7.30462074e-02 -1.35758653e-01\n",
      "  -1.10359170e-01 -7.31720179e-02 -4.76161689e-02  8.23104978e-02\n",
      "   1.41105458e-01  1.20519154e-01  1.41292378e-01  1.27021611e-01\n",
      "   4.46468368e-02  1.08397797e-01  6.64319471e-02  4.85749990e-02\n",
      "  -1.05679713e-01  1.53992668e-01 -8.56987908e-02  6.37421757e-02\n",
      "   1.33769482e-01  1.58018991e-01  9.72424522e-02  1.29086569e-01\n",
      "   6.92962259e-02  4.57569547e-02 -6.39843047e-02 -5.15632704e-02\n",
      "  -1.11009650e-01  2.50466745e-02  1.56981647e-01  1.40491605e-01\n",
      "  -1.38853878e-01  1.84112728e-01 -2.56168190e-04 -6.29253164e-02\n",
      "   1.57683790e-01  9.15231183e-02 -6.02982156e-02  1.68024167e-01\n",
      "  -1.84808224e-01 -9.43195224e-02 -7.15815425e-02 -1.07605159e-01]]\n",
      "[-0.1956148  -0.3618101  -0.15261236 -0.17130129 -0.06538984 -0.32674122\n",
      " -0.14469856 -0.36834255 -0.34499368 -0.25546765 -0.10304586 -0.33292195\n",
      " -0.2692326  -0.11479519 -0.12282494 -0.25682554  0.06784029 -0.19794078\n",
      " -0.10176453 -0.10802776 -0.10226095 -0.33717418 -0.3333445  -0.32751694\n",
      " -0.29679185 -0.2563706  -0.12818901 -0.15286648 -0.07895605 -0.14440323\n",
      "  0.05525619 -0.19954455 -0.14102733 -0.33162123 -0.0598634  -0.3083071\n",
      " -0.14507154 -0.13189274 -0.22622266 -0.18991628 -0.17908154 -0.34432015\n",
      " -0.1375623  -0.33074704 -0.27198112 -0.18766457 -0.17096369 -0.00447352\n",
      " -0.00865416 -0.20710982 -0.17657374  0.09537669 -0.13606185 -0.14906898\n",
      " -0.11995845 -0.17252189 -0.29609084 -0.00916694 -0.3063276  -0.32122093\n",
      " -0.35368797 -0.3041879  -0.20479615 -0.16927555 -0.06581202 -0.15970054\n",
      " -0.06693207 -0.11330265 -0.09974842 -0.09681003 -0.14777075 -0.11103502\n",
      " -0.3443986  -0.07192492 -0.3185977  -0.27376312 -0.06257564 -0.14118655\n",
      " -0.19404416 -0.1399074  -0.1563403  -0.10182763 -0.27462506 -0.22053774\n",
      " -0.3613572  -0.1324476  -0.13920131 -0.12519903 -0.32866386 -0.08540078\n",
      " -0.00381971 -0.27087086 -0.07394478 -0.18882048 -0.25855383 -0.15062895\n",
      " -0.3450024  -0.30841142 -0.29775035 -0.35029224]\n"
     ]
    }
   ],
   "source": [
    "print('first layer weights and biases')\n",
    "weights, biases = get_weights_and_biases(model, 0)\n",
    "print(weights)\n",
    "print(biases)"
   ]
  },
  {
   "cell_type": "markdown",
   "metadata": {},
   "source": [
    "These values are adjusted during backpropagation, which occurs during the iterations of the epochs during training!"
   ]
  },
  {
   "cell_type": "markdown",
   "metadata": {},
   "source": [
    "Top 3 Use Cases for Data Scientists:\n",
    "\n",
    "1. Text\n",
    "2. Images\n",
    "3. Audio"
   ]
  },
  {
   "cell_type": "markdown",
   "metadata": {},
   "source": [
    "# Intro to Final Project"
   ]
  },
  {
   "cell_type": "markdown",
   "metadata": {},
   "source": [
    "- remember to judge the model on BOTH accuracy and loss, since the classes are imbalanced\n",
    "- use glob for making the huge DF"
   ]
  }
 ],
 "metadata": {
  "kernelspec": {
   "display_name": "Python 3",
   "language": "python",
   "name": "python3"
  },
  "language_info": {
   "codemirror_mode": {
    "name": "ipython",
    "version": 3
   },
   "file_extension": ".py",
   "mimetype": "text/x-python",
   "name": "python",
   "nbconvert_exporter": "python",
   "pygments_lexer": "ipython3",
   "version": "3.7.6"
  }
 },
 "nbformat": 4,
 "nbformat_minor": 4
}
