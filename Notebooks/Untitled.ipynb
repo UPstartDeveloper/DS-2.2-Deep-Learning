{
 "cells": [
  {
   "cell_type": "code",
   "execution_count": 2,
   "metadata": {},
   "outputs": [],
   "source": [
    "import keras \n",
    "import pandas as pd\n",
    "import tensorflow as tf"
   ]
  },
  {
   "cell_type": "code",
   "execution_count": 6,
   "metadata": {},
   "outputs": [
    {
     "name": "stdout",
     "output_type": "stream",
     "text": [
      "[10.0, 154.0]\n",
      "[6.5, 56.0]\n",
      "[4.3999996, 20.719995]\n",
      "[3.1399999, 8.019199]\n",
      "[2.3839998, 3.4469109]\n",
      "[1.9303999, 1.8008881]\n",
      "[1.65824, 1.2083197]\n",
      "[1.494944, 0.9949951]\n",
      "[1.3969663, 0.9181981]\n",
      "[1.3381798, 0.89055157]\n",
      "[1.302908, 0.88059855]\n",
      "[1.2817447, 0.8770151]\n",
      "[1.2690468, 0.8757255]\n",
      "[1.2614281, 0.87526155]\n",
      "[1.2568569, 0.87509394]\n",
      "[1.2541142, 0.87503386]\n",
      "[1.2524685, 0.87501216]\n",
      "[1.251481, 0.8750043]\n",
      "[1.2508886, 0.87500143]\n",
      "[1.2505331, 0.8750005]\n"
     ]
    }
   ],
   "source": [
    "# using the partial derivative to optimize a loss function\n",
    "x = tf.Variable(10.0, trainable=True)\n",
    "f_x = 2 * x * x - 5 * x + 4\n",
    "\n",
    "loss = f_x\n",
    "opt = tf.train.GradientDescentOptimizer(0.1).minimize(f_x)\n",
    "\n",
    "with tf.Session() as sess:\n",
    "    sess.run(tf.global_variables_initializer())\n",
    "    for i in range(20):\n",
    "        print(sess.run([x, loss]))\n",
    "        # the following line is what actually executes the GD algo\n",
    "        sess.run(opt)"
   ]
  },
  {
   "cell_type": "markdown",
   "metadata": {},
   "source": [
    "# HEY, BTW\n",
    "\n",
    "The above is **exactly** as what is used in Keras NN!\n",
    "We just are going to have a lot more than one variable, in the form of weights and biases!"
   ]
  },
  {
   "cell_type": "code",
   "execution_count": 7,
   "metadata": {},
   "outputs": [
    {
     "name": "stdout",
     "output_type": "stream",
     "text": [
      "[54, 24]\n"
     ]
    }
   ],
   "source": [
    "a, b = tf.while_loop(lambda x, y: x < 30, lambda x, y: (x * 3, y * 2), [2, 3])\n",
    "\n",
    "with tf.Session() as sess:\n",
    "    print(sess.run([a, b]))"
   ]
  },
  {
   "cell_type": "code",
   "execution_count": null,
   "metadata": {},
   "outputs": [],
   "source": []
  }
 ],
 "metadata": {
  "kernelspec": {
   "display_name": "Python 3",
   "language": "python",
   "name": "python3"
  },
  "language_info": {
   "codemirror_mode": {
    "name": "ipython",
    "version": 3
   },
   "file_extension": ".py",
   "mimetype": "text/x-python",
   "name": "python",
   "nbconvert_exporter": "python",
   "pygments_lexer": "ipython3",
   "version": "3.7.6"
  }
 },
 "nbformat": 4,
 "nbformat_minor": 4
}
