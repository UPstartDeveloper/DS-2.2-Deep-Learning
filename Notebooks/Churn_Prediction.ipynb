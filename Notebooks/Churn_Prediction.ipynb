{
 "cells": [
  {
   "cell_type": "markdown",
   "metadata": {},
   "source": [
    "# Churn Prediction\n",
    "\n",
    "- Data and Business Problem: Our basic aim is to predict customer churn for a certain bank i.e. which customer is going to leave this bank service. \n",
    "\n",
    "- Dataset is small(for learning purpose) and contains 10000 rows with 14 columns.\n",
    "\n",
    "- Do Label Encoding for both Geography and Gender and One Hot Encoding for Geography (Categorical columns)\n",
    "\n",
    "- Do Feature Scaling (Standard Scaling)\n",
    "\n",
    "- Use 80 percent of the data for training and 20 percent for test\n",
    "\n",
    "- Lets have two hidden layers with 6 neurons at each, and an output layer. Batch_size=32, epochs=10\n"
   ]
  },
  {
   "cell_type": "code",
   "execution_count": 48,
   "metadata": {},
   "outputs": [],
   "source": [
    "import pandas as pd\n",
    "from sklearn.preprocessing import LabelEncoder, OneHotEncoder\n",
    "from sklearn.model_selection import train_test_split\n",
    "from sklearn.preprocessing import StandardScaler\n",
    "import keras\n",
    "from keras.models import Sequential\n",
    "from keras.layers import Dense\n",
    "from sklearn.metrics import confusion_matrix, classification_report\n",
    "import numpy as np\n",
    "import tensorflow as tf\n",
    "\n",
    "df = pd.read_csv('Datasets/Churn_Modelling.csv')\n",
    "\n"
   ]
  },
  {
   "cell_type": "code",
   "execution_count": 2,
   "metadata": {},
   "outputs": [
    {
     "data": {
      "text/html": [
       "<div>\n",
       "<style scoped>\n",
       "    .dataframe tbody tr th:only-of-type {\n",
       "        vertical-align: middle;\n",
       "    }\n",
       "\n",
       "    .dataframe tbody tr th {\n",
       "        vertical-align: top;\n",
       "    }\n",
       "\n",
       "    .dataframe thead th {\n",
       "        text-align: right;\n",
       "    }\n",
       "</style>\n",
       "<table border=\"1\" class=\"dataframe\">\n",
       "  <thead>\n",
       "    <tr style=\"text-align: right;\">\n",
       "      <th></th>\n",
       "      <th>RowNumber</th>\n",
       "      <th>CustomerId</th>\n",
       "      <th>Surname</th>\n",
       "      <th>CreditScore</th>\n",
       "      <th>Geography</th>\n",
       "      <th>Gender</th>\n",
       "      <th>Age</th>\n",
       "      <th>Tenure</th>\n",
       "      <th>Balance</th>\n",
       "      <th>NumOfProducts</th>\n",
       "      <th>HasCrCard</th>\n",
       "      <th>IsActiveMember</th>\n",
       "      <th>EstimatedSalary</th>\n",
       "      <th>Exited</th>\n",
       "    </tr>\n",
       "  </thead>\n",
       "  <tbody>\n",
       "    <tr>\n",
       "      <th>0</th>\n",
       "      <td>1</td>\n",
       "      <td>15634602</td>\n",
       "      <td>Hargrave</td>\n",
       "      <td>619</td>\n",
       "      <td>France</td>\n",
       "      <td>Female</td>\n",
       "      <td>42</td>\n",
       "      <td>2</td>\n",
       "      <td>0.00</td>\n",
       "      <td>1</td>\n",
       "      <td>1</td>\n",
       "      <td>1</td>\n",
       "      <td>101348.88</td>\n",
       "      <td>1</td>\n",
       "    </tr>\n",
       "    <tr>\n",
       "      <th>1</th>\n",
       "      <td>2</td>\n",
       "      <td>15647311</td>\n",
       "      <td>Hill</td>\n",
       "      <td>608</td>\n",
       "      <td>Spain</td>\n",
       "      <td>Female</td>\n",
       "      <td>41</td>\n",
       "      <td>1</td>\n",
       "      <td>83807.86</td>\n",
       "      <td>1</td>\n",
       "      <td>0</td>\n",
       "      <td>1</td>\n",
       "      <td>112542.58</td>\n",
       "      <td>0</td>\n",
       "    </tr>\n",
       "    <tr>\n",
       "      <th>2</th>\n",
       "      <td>3</td>\n",
       "      <td>15619304</td>\n",
       "      <td>Onio</td>\n",
       "      <td>502</td>\n",
       "      <td>France</td>\n",
       "      <td>Female</td>\n",
       "      <td>42</td>\n",
       "      <td>8</td>\n",
       "      <td>159660.80</td>\n",
       "      <td>3</td>\n",
       "      <td>1</td>\n",
       "      <td>0</td>\n",
       "      <td>113931.57</td>\n",
       "      <td>1</td>\n",
       "    </tr>\n",
       "    <tr>\n",
       "      <th>3</th>\n",
       "      <td>4</td>\n",
       "      <td>15701354</td>\n",
       "      <td>Boni</td>\n",
       "      <td>699</td>\n",
       "      <td>France</td>\n",
       "      <td>Female</td>\n",
       "      <td>39</td>\n",
       "      <td>1</td>\n",
       "      <td>0.00</td>\n",
       "      <td>2</td>\n",
       "      <td>0</td>\n",
       "      <td>0</td>\n",
       "      <td>93826.63</td>\n",
       "      <td>0</td>\n",
       "    </tr>\n",
       "    <tr>\n",
       "      <th>4</th>\n",
       "      <td>5</td>\n",
       "      <td>15737888</td>\n",
       "      <td>Mitchell</td>\n",
       "      <td>850</td>\n",
       "      <td>Spain</td>\n",
       "      <td>Female</td>\n",
       "      <td>43</td>\n",
       "      <td>2</td>\n",
       "      <td>125510.82</td>\n",
       "      <td>1</td>\n",
       "      <td>1</td>\n",
       "      <td>1</td>\n",
       "      <td>79084.10</td>\n",
       "      <td>0</td>\n",
       "    </tr>\n",
       "  </tbody>\n",
       "</table>\n",
       "</div>"
      ],
      "text/plain": [
       "   RowNumber  CustomerId   Surname  CreditScore Geography  Gender  Age  \\\n",
       "0          1    15634602  Hargrave          619    France  Female   42   \n",
       "1          2    15647311      Hill          608     Spain  Female   41   \n",
       "2          3    15619304      Onio          502    France  Female   42   \n",
       "3          4    15701354      Boni          699    France  Female   39   \n",
       "4          5    15737888  Mitchell          850     Spain  Female   43   \n",
       "\n",
       "   Tenure    Balance  NumOfProducts  HasCrCard  IsActiveMember  \\\n",
       "0       2       0.00              1          1               1   \n",
       "1       1   83807.86              1          0               1   \n",
       "2       8  159660.80              3          1               0   \n",
       "3       1       0.00              2          0               0   \n",
       "4       2  125510.82              1          1               1   \n",
       "\n",
       "   EstimatedSalary  Exited  \n",
       "0        101348.88       1  \n",
       "1        112542.58       0  \n",
       "2        113931.57       1  \n",
       "3         93826.63       0  \n",
       "4         79084.10       0  "
      ]
     },
     "execution_count": 2,
     "metadata": {},
     "output_type": "execute_result"
    }
   ],
   "source": [
    "df.head()"
   ]
  },
  {
   "cell_type": "markdown",
   "metadata": {},
   "source": [
    "## One Hot Encoding"
   ]
  },
  {
   "cell_type": "code",
   "execution_count": 2,
   "metadata": {},
   "outputs": [
    {
     "name": "stdout",
     "output_type": "stream",
     "text": [
      "[[619.  42.   2. ...   0.   1.   0.]\n",
      " [608.  41.   1. ...   1.   1.   0.]\n",
      " [502.  42.   8. ...   0.   1.   0.]\n",
      " ...\n",
      " [709.  36.   7. ...   0.   1.   0.]\n",
      " [772.  42.   3. ...   0.   0.   1.]\n",
      " [792.  28.   4. ...   0.   1.   0.]]\n"
     ]
    }
   ],
   "source": [
    "X = df.iloc[:, 3:13]\n",
    "y = df.iloc[:, 13]\n",
    "X = pd.get_dummies(X).values  # both gender and geo are one hot encoded\n",
    "print(X)"
   ]
  },
  {
   "cell_type": "code",
   "execution_count": 3,
   "metadata": {},
   "outputs": [],
   "source": [
    "x_train, x_test, y_train, y_test  = train_test_split(X, y, test_size=0.2, random_state=42) "
   ]
  },
  {
   "cell_type": "code",
   "execution_count": 4,
   "metadata": {},
   "outputs": [],
   "source": [
    "sc = StandardScaler()\n",
    "X_train = sc.fit_transform(x_train)\n",
    "X_test = sc.transform(x_test)"
   ]
  },
  {
   "cell_type": "code",
   "execution_count": 5,
   "metadata": {},
   "outputs": [
    {
     "name": "stdout",
     "output_type": "stream",
     "text": [
      "(8000, 13)\n"
     ]
    }
   ],
   "source": [
    "print(X_train.shape)"
   ]
  },
  {
   "cell_type": "markdown",
   "metadata": {},
   "source": [
    "## Define Model\n",
    "\n",
    " two hidden layers with 6 neurons at each, and an output layer. Batch_size=32, epochs=10"
   ]
  },
  {
   "cell_type": "code",
   "execution_count": 12,
   "metadata": {},
   "outputs": [],
   "source": [
    "model = Sequential()\n",
    "\n",
    "model.add(Dense(6, kernel_initializer='uniform', activation='relu', input_shape=(13,)))\n",
    "\n",
    "model.add(Dense(6, kernel_initializer='uniform', activation='relu'))\n",
    "\n",
    "model.add(Dense(1, kernel_initializer='uniform', activation='sigmoid'))"
   ]
  },
  {
   "cell_type": "markdown",
   "metadata": {},
   "source": [
    "## Compile Model"
   ]
  },
  {
   "cell_type": "code",
   "execution_count": 14,
   "metadata": {},
   "outputs": [],
   "source": [
    "model.compile(loss=keras.losses.binary_crossentropy,\n",
    "              optimizer='adam',\n",
    "              metrics=['accuracy'])"
   ]
  },
  {
   "cell_type": "markdown",
   "metadata": {},
   "source": [
    "## Train Model"
   ]
  },
  {
   "cell_type": "code",
   "execution_count": 39,
   "metadata": {},
   "outputs": [
    {
     "name": "stdout",
     "output_type": "stream",
     "text": [
      "Train on 6400 samples, validate on 1600 samples\n",
      "Epoch 1/50\n",
      "6400/6400 [==============================] - 0s 31us/step - loss: 0.4271 - acc: 0.7934 - val_loss: 0.4172 - val_acc: 0.7987\n",
      "Epoch 2/50\n",
      "6400/6400 [==============================] - 0s 25us/step - loss: 0.4253 - acc: 0.7934 - val_loss: 0.4158 - val_acc: 0.7987\n",
      "Epoch 3/50\n",
      "6400/6400 [==============================] - 0s 23us/step - loss: 0.4238 - acc: 0.8141 - val_loss: 0.4136 - val_acc: 0.8331\n",
      "Epoch 4/50\n",
      "6400/6400 [==============================] - 0s 27us/step - loss: 0.4227 - acc: 0.8214 - val_loss: 0.4129 - val_acc: 0.8331\n",
      "Epoch 5/50\n",
      "6400/6400 [==============================] - 0s 30us/step - loss: 0.4213 - acc: 0.8212 - val_loss: 0.4122 - val_acc: 0.8331\n",
      "Epoch 6/50\n",
      "6400/6400 [==============================] - 0s 29us/step - loss: 0.4203 - acc: 0.8248 - val_loss: 0.4111 - val_acc: 0.8325\n",
      "Epoch 7/50\n",
      "6400/6400 [==============================] - 0s 30us/step - loss: 0.4193 - acc: 0.8269 - val_loss: 0.4101 - val_acc: 0.8325\n",
      "Epoch 8/50\n",
      "6400/6400 [==============================] - 0s 32us/step - loss: 0.4179 - acc: 0.8295 - val_loss: 0.4100 - val_acc: 0.8300\n",
      "Epoch 9/50\n",
      "6400/6400 [==============================] - 0s 37us/step - loss: 0.4174 - acc: 0.8286 - val_loss: 0.4090 - val_acc: 0.8306\n",
      "Epoch 10/50\n",
      "6400/6400 [==============================] - 0s 30us/step - loss: 0.4164 - acc: 0.8300 - val_loss: 0.4080 - val_acc: 0.8344\n",
      "Epoch 11/50\n",
      "6400/6400 [==============================] - 0s 31us/step - loss: 0.4157 - acc: 0.8303 - val_loss: 0.4075 - val_acc: 0.8356\n",
      "Epoch 12/50\n",
      "6400/6400 [==============================] - 0s 31us/step - loss: 0.4146 - acc: 0.8317 - val_loss: 0.4068 - val_acc: 0.8356\n",
      "Epoch 13/50\n",
      "6400/6400 [==============================] - 0s 35us/step - loss: 0.4138 - acc: 0.8331 - val_loss: 0.4061 - val_acc: 0.8356\n",
      "Epoch 14/50\n",
      "6400/6400 [==============================] - 0s 34us/step - loss: 0.4131 - acc: 0.8331 - val_loss: 0.4058 - val_acc: 0.8363\n",
      "Epoch 15/50\n",
      "6400/6400 [==============================] - 0s 32us/step - loss: 0.4126 - acc: 0.8339 - val_loss: 0.4055 - val_acc: 0.8363\n",
      "Epoch 16/50\n",
      "6400/6400 [==============================] - 0s 33us/step - loss: 0.4117 - acc: 0.8334 - val_loss: 0.4054 - val_acc: 0.8344\n",
      "Epoch 17/50\n",
      "6400/6400 [==============================] - 0s 29us/step - loss: 0.4112 - acc: 0.8358 - val_loss: 0.4046 - val_acc: 0.8344\n",
      "Epoch 18/50\n",
      "6400/6400 [==============================] - 0s 33us/step - loss: 0.4106 - acc: 0.8356 - val_loss: 0.4048 - val_acc: 0.8363\n",
      "Epoch 19/50\n",
      "6400/6400 [==============================] - 0s 38us/step - loss: 0.4098 - acc: 0.8358 - val_loss: 0.4044 - val_acc: 0.8363\n",
      "Epoch 20/50\n",
      "6400/6400 [==============================] - 0s 35us/step - loss: 0.4101 - acc: 0.8345 - val_loss: 0.4036 - val_acc: 0.8356\n",
      "Epoch 21/50\n",
      "6400/6400 [==============================] - 0s 31us/step - loss: 0.4091 - acc: 0.8345 - val_loss: 0.4034 - val_acc: 0.8369\n",
      "Epoch 22/50\n",
      "6400/6400 [==============================] - 0s 28us/step - loss: 0.4088 - acc: 0.8356 - val_loss: 0.4032 - val_acc: 0.8344\n",
      "Epoch 23/50\n",
      "6400/6400 [==============================] - 0s 33us/step - loss: 0.4086 - acc: 0.8348 - val_loss: 0.4029 - val_acc: 0.8363\n",
      "Epoch 24/50\n",
      "6400/6400 [==============================] - 0s 32us/step - loss: 0.4082 - acc: 0.8345 - val_loss: 0.4029 - val_acc: 0.8356\n",
      "Epoch 25/50\n",
      "6400/6400 [==============================] - 0s 36us/step - loss: 0.4075 - acc: 0.8345 - val_loss: 0.4038 - val_acc: 0.8337\n",
      "Epoch 26/50\n",
      "6400/6400 [==============================] - 0s 32us/step - loss: 0.4076 - acc: 0.8352 - val_loss: 0.4022 - val_acc: 0.8350\n",
      "Epoch 27/50\n",
      "6400/6400 [==============================] - 0s 32us/step - loss: 0.4074 - acc: 0.8339 - val_loss: 0.4023 - val_acc: 0.8356\n",
      "Epoch 28/50\n",
      "6400/6400 [==============================] - 0s 27us/step - loss: 0.4070 - acc: 0.8353 - val_loss: 0.4022 - val_acc: 0.8356\n",
      "Epoch 29/50\n",
      "6400/6400 [==============================] - 0s 29us/step - loss: 0.4067 - acc: 0.8342 - val_loss: 0.4023 - val_acc: 0.8356\n",
      "Epoch 30/50\n",
      "6400/6400 [==============================] - 0s 28us/step - loss: 0.4064 - acc: 0.8358 - val_loss: 0.4016 - val_acc: 0.8350\n",
      "Epoch 31/50\n",
      "6400/6400 [==============================] - 0s 37us/step - loss: 0.4059 - acc: 0.8356 - val_loss: 0.4015 - val_acc: 0.8356\n",
      "Epoch 32/50\n",
      "6400/6400 [==============================] - 0s 37us/step - loss: 0.4059 - acc: 0.8356 - val_loss: 0.4017 - val_acc: 0.8363\n",
      "Epoch 33/50\n",
      "6400/6400 [==============================] - 0s 38us/step - loss: 0.4056 - acc: 0.8353 - val_loss: 0.4015 - val_acc: 0.8363\n",
      "Epoch 34/50\n",
      "6400/6400 [==============================] - 0s 45us/step - loss: 0.4054 - acc: 0.8353 - val_loss: 0.4018 - val_acc: 0.8356\n",
      "Epoch 35/50\n",
      "6400/6400 [==============================] - 0s 38us/step - loss: 0.4054 - acc: 0.8361 - val_loss: 0.4014 - val_acc: 0.8363\n",
      "Epoch 36/50\n",
      "6400/6400 [==============================] - 0s 34us/step - loss: 0.4052 - acc: 0.8347 - val_loss: 0.4017 - val_acc: 0.8363\n",
      "Epoch 37/50\n",
      "6400/6400 [==============================] - 0s 27us/step - loss: 0.4050 - acc: 0.8358 - val_loss: 0.4015 - val_acc: 0.8363\n",
      "Epoch 38/50\n",
      "6400/6400 [==============================] - 0s 28us/step - loss: 0.4049 - acc: 0.8363 - val_loss: 0.4013 - val_acc: 0.8369\n",
      "Epoch 39/50\n",
      "6400/6400 [==============================] - 0s 25us/step - loss: 0.4047 - acc: 0.8361 - val_loss: 0.4015 - val_acc: 0.8356\n",
      "Epoch 40/50\n",
      "6400/6400 [==============================] - 0s 25us/step - loss: 0.4044 - acc: 0.8358 - val_loss: 0.4012 - val_acc: 0.8363\n",
      "Epoch 41/50\n",
      "6400/6400 [==============================] - 0s 27us/step - loss: 0.4045 - acc: 0.8347 - val_loss: 0.4012 - val_acc: 0.8363\n",
      "Epoch 42/50\n",
      "6400/6400 [==============================] - 0s 30us/step - loss: 0.4042 - acc: 0.8358 - val_loss: 0.4007 - val_acc: 0.8356\n",
      "Epoch 43/50\n",
      "6400/6400 [==============================] - 0s 30us/step - loss: 0.4044 - acc: 0.8361 - val_loss: 0.4009 - val_acc: 0.8356\n",
      "Epoch 44/50\n",
      "6400/6400 [==============================] - 0s 28us/step - loss: 0.4039 - acc: 0.8344 - val_loss: 0.4009 - val_acc: 0.8363\n",
      "Epoch 45/50\n",
      "6400/6400 [==============================] - 0s 35us/step - loss: 0.4037 - acc: 0.8361 - val_loss: 0.4006 - val_acc: 0.8356\n",
      "Epoch 46/50\n",
      "6400/6400 [==============================] - 0s 27us/step - loss: 0.4037 - acc: 0.8355 - val_loss: 0.4007 - val_acc: 0.8363\n",
      "Epoch 47/50\n",
      "6400/6400 [==============================] - 0s 30us/step - loss: 0.4037 - acc: 0.8366 - val_loss: 0.4012 - val_acc: 0.8363\n",
      "Epoch 48/50\n",
      "6400/6400 [==============================] - 0s 25us/step - loss: 0.4034 - acc: 0.8356 - val_loss: 0.4005 - val_acc: 0.8356\n",
      "Epoch 49/50\n",
      "6400/6400 [==============================] - 0s 30us/step - loss: 0.4034 - acc: 0.8363 - val_loss: 0.4007 - val_acc: 0.8350\n",
      "Epoch 50/50\n",
      "6400/6400 [==============================] - 0s 43us/step - loss: 0.4035 - acc: 0.8361 - val_loss: 0.4010 - val_acc: 0.8356\n"
     ]
    },
    {
     "data": {
      "text/plain": [
       "<keras.callbacks.History at 0x1471ace90>"
      ]
     },
     "execution_count": 39,
     "metadata": {},
     "output_type": "execute_result"
    }
   ],
   "source": [
    "model.fit(X_train, y_train, batch_size=32, epochs=50, validation_split=0.2)"
   ]
  },
  {
   "cell_type": "markdown",
   "metadata": {},
   "source": [
    "## Evaluating the Model"
   ]
  },
  {
   "cell_type": "code",
   "execution_count": 40,
   "metadata": {},
   "outputs": [],
   "source": [
    "y_pred = model.predict(X_test)"
   ]
  },
  {
   "cell_type": "code",
   "execution_count": 41,
   "metadata": {},
   "outputs": [
    {
     "name": "stdout",
     "output_type": "stream",
     "text": [
      "0    7963\n",
      "1    2037\n",
      "Name: Exited, dtype: int64\n"
     ]
    }
   ],
   "source": [
    "# Find the right threshold\n",
    "labels = y.value_counts()\n",
    "print(labels)"
   ]
  },
  {
   "cell_type": "code",
   "execution_count": 42,
   "metadata": {},
   "outputs": [],
   "source": [
    "threshold = labels[1]/len(y)"
   ]
  },
  {
   "cell_type": "code",
   "execution_count": 43,
   "metadata": {},
   "outputs": [
    {
     "name": "stdout",
     "output_type": "stream",
     "text": [
      "0.2037\n"
     ]
    }
   ],
   "source": [
    "print(threshold)  # the percentage of customers who are 1"
   ]
  },
  {
   "cell_type": "code",
   "execution_count": 44,
   "metadata": {},
   "outputs": [],
   "source": [
    "# use the threshold, so we're more sensitive to classifying those who exited\n",
    "y_pred = (y_pred > threshold)"
   ]
  },
  {
   "cell_type": "code",
   "execution_count": 45,
   "metadata": {},
   "outputs": [
    {
     "name": "stdout",
     "output_type": "stream",
     "text": [
      "[[1118  489]\n",
      " [ 102  291]]\n"
     ]
    }
   ],
   "source": [
    "cm = confusion_matrix(y_test, y_pred)\n",
    "print(cm)"
   ]
  },
  {
   "cell_type": "markdown",
   "metadata": {},
   "source": [
    "## Evaluate Model Metrics"
   ]
  },
  {
   "cell_type": "code",
   "execution_count": 46,
   "metadata": {},
   "outputs": [],
   "source": [
    "# Functions for metrics copied from https://datascience.stackexchange.com/questions/45165/how-to-get-accuracy-f1-precision-and-recall-for-a-keras-model\n",
    "def recall(cm):\n",
    "    true_positives = cm[1][1]\n",
    "    false_negatives = cm[0][1]\n",
    "    return (true_positives / (true_positives + false_negatives))\n",
    "    \n",
    "def precision(cm):\n",
    "    true_positives = cm[1][1]\n",
    "    false_positives = cm[1][0]\n",
    "    return (true_positives / (true_positives + false_positives))\n",
    "    \n",
    "def f1(cm):\n",
    "    precision_val = precision(cm)\n",
    "    recall_val = recall(cm)\n",
    "    return 2*((precision_val*recall_val)/(precision_val+recall_val))\n",
    "\n",
    "def accuracy(y_pred, cm):\n",
    "    TP, TN = cm[1][1], cm[0][0]\n",
    "    return (TP + TN) / (len(y_pred))"
   ]
  },
  {
   "cell_type": "code",
   "execution_count": 47,
   "metadata": {},
   "outputs": [
    {
     "name": "stdout",
     "output_type": "stream",
     "text": [
      "Recall: 0.3730769230769231\n",
      "Precision: 0.7404580152671756\n",
      "F1-Score: 0.4961636828644502\n",
      "Accuracy: 0.7045\n"
     ]
    }
   ],
   "source": [
    "print(f'Recall: {recall(cm)}')\n",
    "print(f'Precision: {precision(cm)}')\n",
    "print(f'F1-Score: {f1(cm)}')\n",
    "print(f'Accuracy: {accuracy(y_pred, cm)}')"
   ]
  },
  {
   "cell_type": "markdown",
   "metadata": {},
   "source": [
    "Alternatively..."
   ]
  },
  {
   "cell_type": "code",
   "execution_count": 50,
   "metadata": {},
   "outputs": [
    {
     "name": "stdout",
     "output_type": "stream",
     "text": [
      "              precision    recall  f1-score   support\n",
      "\n",
      "           0       0.92      0.70      0.79      1607\n",
      "           1       0.37      0.74      0.50       393\n",
      "\n",
      "    accuracy                           0.70      2000\n",
      "   macro avg       0.64      0.72      0.64      2000\n",
      "weighted avg       0.81      0.70      0.73      2000\n",
      "\n"
     ]
    }
   ],
   "source": [
    "report = classification_report(y_test, y_pred).split('\\n')\n",
    "for line in report:\n",
    "    print(line)"
   ]
  }
 ],
 "metadata": {
  "kernelspec": {
   "display_name": "Python 3",
   "language": "python",
   "name": "python3"
  },
  "language_info": {
   "codemirror_mode": {
    "name": "ipython",
    "version": 3
   },
   "file_extension": ".py",
   "mimetype": "text/x-python",
   "name": "python",
   "nbconvert_exporter": "python",
   "pygments_lexer": "ipython3",
   "version": "3.7.6"
  }
 },
 "nbformat": 4,
 "nbformat_minor": 2
}
