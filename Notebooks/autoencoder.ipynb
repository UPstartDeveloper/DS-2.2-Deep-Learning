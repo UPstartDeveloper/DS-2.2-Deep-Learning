{
 "cells": [
  {
   "cell_type": "code",
   "execution_count": 1,
   "metadata": {},
   "outputs": [
    {
     "name": "stderr",
     "output_type": "stream",
     "text": [
      "Using TensorFlow backend.\n"
     ]
    }
   ],
   "source": [
    "import keras\n",
    "import tensorflow as tf\n",
    "import pandas as pd"
   ]
  },
  {
   "cell_type": "code",
   "execution_count": 5,
   "metadata": {},
   "outputs": [],
   "source": [
    "from keras.layers import Input, Dense\n",
    "from keras.datasets import mnist\n",
    "from keras.models import Model\n",
    "import numpy as np\n",
    "from keras.optimizers import SGD\n",
    "# building using the Functional API"
   ]
  },
  {
   "cell_type": "code",
   "execution_count": 45,
   "metadata": {},
   "outputs": [
    {
     "name": "stdout",
     "output_type": "stream",
     "text": [
      "Train on 60000 samples, validate on 10000 samples\n",
      "Epoch 1/50\n",
      "60000/60000 [==============================] - 1s 14us/step - loss: 0.1227 - val_loss: 0.0721\n",
      "Epoch 2/50\n",
      "60000/60000 [==============================] - 1s 11us/step - loss: 0.0706 - val_loss: 0.0695\n",
      "Epoch 3/50\n",
      "60000/60000 [==============================] - 1s 11us/step - loss: 0.0687 - val_loss: 0.0676\n",
      "Epoch 4/50\n",
      "60000/60000 [==============================] - 1s 12us/step - loss: 0.0665 - val_loss: 0.0650\n",
      "Epoch 5/50\n",
      "60000/60000 [==============================] - 1s 12us/step - loss: 0.0636 - val_loss: 0.0617\n",
      "Epoch 6/50\n",
      "60000/60000 [==============================] - 1s 11us/step - loss: 0.0602 - val_loss: 0.0582\n",
      "Epoch 7/50\n",
      "60000/60000 [==============================] - 1s 11us/step - loss: 0.0569 - val_loss: 0.0550\n",
      "Epoch 8/50\n",
      "60000/60000 [==============================] - 1s 11us/step - loss: 0.0539 - val_loss: 0.0521\n",
      "Epoch 9/50\n",
      "60000/60000 [==============================] - 1s 11us/step - loss: 0.0512 - val_loss: 0.0496\n",
      "Epoch 10/50\n",
      "60000/60000 [==============================] - 1s 12us/step - loss: 0.0489 - val_loss: 0.0474\n",
      "Epoch 11/50\n",
      "60000/60000 [==============================] - 1s 11us/step - loss: 0.0469 - val_loss: 0.0456\n",
      "Epoch 12/50\n",
      "60000/60000 [==============================] - 1s 12us/step - loss: 0.0452 - val_loss: 0.0440\n",
      "Epoch 13/50\n",
      "60000/60000 [==============================] - 1s 13us/step - loss: 0.0438 - val_loss: 0.0427\n",
      "Epoch 14/50\n",
      "60000/60000 [==============================] - 1s 13us/step - loss: 0.0425 - val_loss: 0.0415\n",
      "Epoch 15/50\n",
      "60000/60000 [==============================] - 1s 12us/step - loss: 0.0414 - val_loss: 0.0404\n",
      "Epoch 16/50\n",
      "60000/60000 [==============================] - 1s 13us/step - loss: 0.0403 - val_loss: 0.0394\n",
      "Epoch 17/50\n",
      "60000/60000 [==============================] - 1s 14us/step - loss: 0.0394 - val_loss: 0.0385\n",
      "Epoch 18/50\n",
      "60000/60000 [==============================] - 1s 12us/step - loss: 0.0385 - val_loss: 0.0376\n",
      "Epoch 19/50\n",
      "60000/60000 [==============================] - 1s 12us/step - loss: 0.0376 - val_loss: 0.0368\n",
      "Epoch 20/50\n",
      "60000/60000 [==============================] - 1s 12us/step - loss: 0.0369 - val_loss: 0.0361\n",
      "Epoch 21/50\n",
      "60000/60000 [==============================] - 1s 12us/step - loss: 0.0361 - val_loss: 0.0354\n",
      "Epoch 22/50\n",
      "60000/60000 [==============================] - 1s 11us/step - loss: 0.0355 - val_loss: 0.0347\n",
      "Epoch 23/50\n",
      "60000/60000 [==============================] - 1s 12us/step - loss: 0.0348 - val_loss: 0.0341\n",
      "Epoch 24/50\n",
      "60000/60000 [==============================] - 1s 12us/step - loss: 0.0342 - val_loss: 0.0335\n",
      "Epoch 25/50\n",
      "60000/60000 [==============================] - 1s 12us/step - loss: 0.0336 - val_loss: 0.0329\n",
      "Epoch 26/50\n",
      "60000/60000 [==============================] - 1s 12us/step - loss: 0.0331 - val_loss: 0.0324\n",
      "Epoch 27/50\n",
      "60000/60000 [==============================] - 1s 12us/step - loss: 0.0325 - val_loss: 0.0319\n",
      "Epoch 28/50\n",
      "60000/60000 [==============================] - 1s 12us/step - loss: 0.0320 - val_loss: 0.0314\n",
      "Epoch 29/50\n",
      "60000/60000 [==============================] - 1s 12us/step - loss: 0.0315 - val_loss: 0.0309\n",
      "Epoch 30/50\n",
      "60000/60000 [==============================] - 1s 12us/step - loss: 0.0310 - val_loss: 0.0304\n",
      "Epoch 31/50\n",
      "60000/60000 [==============================] - 1s 13us/step - loss: 0.0306 - val_loss: 0.0299\n",
      "Epoch 32/50\n",
      "60000/60000 [==============================] - 1s 12us/step - loss: 0.0301 - val_loss: 0.0295\n",
      "Epoch 33/50\n",
      "60000/60000 [==============================] - 1s 12us/step - loss: 0.0297 - val_loss: 0.0290\n",
      "Epoch 34/50\n",
      "60000/60000 [==============================] - 1s 12us/step - loss: 0.0292 - val_loss: 0.0286\n",
      "Epoch 35/50\n",
      "60000/60000 [==============================] - 1s 12us/step - loss: 0.0288 - val_loss: 0.0282\n",
      "Epoch 36/50\n",
      "60000/60000 [==============================] - 1s 12us/step - loss: 0.0284 - val_loss: 0.0278\n",
      "Epoch 37/50\n",
      "60000/60000 [==============================] - 1s 12us/step - loss: 0.0280 - val_loss: 0.0274\n",
      "Epoch 38/50\n",
      "60000/60000 [==============================] - 1s 12us/step - loss: 0.0277 - val_loss: 0.0271\n",
      "Epoch 39/50\n",
      "60000/60000 [==============================] - 1s 11us/step - loss: 0.0273 - val_loss: 0.0267\n",
      "Epoch 40/50\n",
      "60000/60000 [==============================] - 1s 12us/step - loss: 0.0270 - val_loss: 0.0264\n",
      "Epoch 41/50\n",
      "60000/60000 [==============================] - 1s 12us/step - loss: 0.0266 - val_loss: 0.0260\n",
      "Epoch 42/50\n",
      "60000/60000 [==============================] - 1s 12us/step - loss: 0.0263 - val_loss: 0.0257\n",
      "Epoch 43/50\n",
      "60000/60000 [==============================] - 1s 12us/step - loss: 0.0260 - val_loss: 0.0254\n",
      "Epoch 44/50\n",
      "60000/60000 [==============================] - 1s 12us/step - loss: 0.0257 - val_loss: 0.0251\n",
      "Epoch 45/50\n",
      "60000/60000 [==============================] - 1s 12us/step - loss: 0.0254 - val_loss: 0.0248\n",
      "Epoch 46/50\n",
      "60000/60000 [==============================] - 1s 13us/step - loss: 0.0251 - val_loss: 0.0245\n",
      "Epoch 47/50\n",
      "60000/60000 [==============================] - 1s 12us/step - loss: 0.0248 - val_loss: 0.0242\n",
      "Epoch 48/50\n",
      "60000/60000 [==============================] - 1s 14us/step - loss: 0.0245 - val_loss: 0.0240\n",
      "Epoch 49/50\n",
      "60000/60000 [==============================] - 1s 12us/step - loss: 0.0243 - val_loss: 0.0237\n",
      "Epoch 50/50\n",
      "60000/60000 [==============================] - 1s 13us/step - loss: 0.0240 - val_loss: 0.0235\n"
     ]
    },
    {
     "data": {
      "text/plain": [
       "<keras.callbacks.callbacks.History at 0x14ece68d0>"
      ]
     },
     "execution_count": 45,
     "metadata": {},
     "output_type": "execute_result"
    }
   ],
   "source": [
    "# this is the size of our encoded representations\n",
    "encoding_dim = 32  # 32 floats -> compression of factor 24.5, assuming the input is 784 floats\n",
    "\n",
    "# this is our input placeholder\n",
    "input_img = Input(shape=(784,))\n",
    "# \"encoded\" is the encoded representation of the input\n",
    "encoded = Dense(encoding_dim, activation='relu')(input_img)\n",
    "# \"decoded\" is the lossy reconstruction of the input\n",
    "decoded = Dense(784, activation='sigmoid')(encoded)\n",
    "\n",
    "# this model maps an input to its reconstruction\n",
    "autoencoder = Model(input_img, decoded)\n",
    "\n",
    "# configure our model to use a per-pixel binary crossentropy loss, and the Adadelta optimizer:\n",
    "\n",
    "autoencoder.compile(optimizer='adadelta', loss='mse')\n",
    "\n",
    "# prepare our input data. We're using MNIST digits, and we're discarding the labels \n",
    "# since we're only interested in encoding/decoding the input images\n",
    "\n",
    "\n",
    "(x_train, _), (x_test, _) = mnist.load_data()\n",
    "\n",
    "# normalize all values between 0 and 1 and we will flatten the 28x28 images into vectors of size 784\n",
    "\n",
    "x_train = x_train.astype('float32') / 255.\n",
    "x_test = x_test.astype('float32') / 255.\n",
    "\n",
    "# Reshape x_train and x_test\n",
    "x_train = np.reshape(x_train,[-1, 28*28])\n",
    "x_test = np.reshape(x_test,[-1, 28*28])\n",
    "\n",
    "# train our autoencoder for 50 epochs\n",
    "\n",
    "autoencoder.fit(x_train, x_train,\n",
    "                epochs=50,\n",
    "                batch_size=256,\n",
    "                shuffle=True,\n",
    "                validation_data=(x_test, x_test))\n"
   ]
  },
  {
   "cell_type": "code",
   "execution_count": 46,
   "metadata": {},
   "outputs": [],
   "source": [
    "from PIL import Image\n",
    "# Solution:\n",
    "\n",
    "# We should create a separate encoder model\n",
    "\n",
    "# this model maps an input to its encoded representation\n",
    "encoder = Model(input_img, encoded)\n",
    "\n",
    "# As well as the decoder model\n",
    "\n",
    "# create a placeholder for an encoded (32-dimensional) input\n",
    "encoded_input = Input(shape=(encoding_dim,))\n",
    "# retrieve the last layer of the autoencoder model\n",
    "decoder_layer = autoencoder.layers[-1]\n",
    "# create the decoder model\n",
    "decoder = Model(encoded_input, decoder_layer(encoded_input))\n",
    "\n",
    "# encode and decode some digits\n",
    "# note that we take them from the *test* set\n",
    "encoded_imgs = encoder.predict(x_test)\n",
    "\n",
    "decoded_imgs = decoder.predict(encoded_imgs)"
   ]
  },
  {
   "cell_type": "code",
   "execution_count": 47,
   "metadata": {},
   "outputs": [
    {
     "data": {
      "image/png": "[encoded data removed]",
      "text/plain": [
       "<Figure size 432x288 with 1 Axes>"
      ]
     },
     "metadata": {
      "needs_background": "light"
     },
     "output_type": "display_data"
    }
   ],
   "source": [
    "import matplotlib.pyplot as plt\n",
    "\n",
    "# plot the encode images\n",
    "for i, img in enumerate(encoded_imgs[:5]):\n",
    "    encoded_img = img.reshape(8,4)\n",
    "    e_image = Image.fromarray(encoded_img, \"L\")\n",
    "    plt.imshow(encoded_img)\n",
    "    e_image.save(f\"number_{i}.png\")\n",
    "    # image.show()\n",
    "    # plot the decoded images\n",
    "    # reshaped_img = img.reshape()\n",
    "    # decoded_img = decoder.predict(x_test[i]).reshape((28, 28))\n",
    "    # recon_image = decoded_img.reshape(28, 28)\n",
    "    # decoded_img = decoder.predict(np.array([img])).reshape((28, 28))\n",
    "    decoded_img = decoded_imgs[i].reshape((28, 28))\n",
    "    # image = decoded_imgs[i]\n",
    "    # recon_image = image.reshape(28, 28)\n",
    "    d_image = Image.fromarray(decoded_img, \"L\")\n",
    "    plt.imshow(decoded_img)\n",
    "    d_image.save(f\"decoded_number{i}.png\")\n",
    "    # image.show()"
   ]
  },
  {
   "cell_type": "code",
   "execution_count": 16,
   "metadata": {},
   "outputs": [],
   "source": [
    "# plot the decoded images\n",
    "for img in decoded_imgs[0:5]:\n",
    "    img = img.reshape(28, 28)\n",
    "    image = Image.fromarray(img, \"L\")\n",
    "    image.save(\"number.png\")\n",
    "    image.show()"
   ]
  },
  {
   "cell_type": "code",
   "execution_count": null,
   "metadata": {},
   "outputs": [],
   "source": []
  }
 ],
 "metadata": {
  "kernelspec": {
   "display_name": "DS_env",
   "language": "python",
   "name": "env"
  },
  "language_info": {
   "codemirror_mode": {
    "name": "ipython",
    "version": 3
   },
   "file_extension": ".py",
   "mimetype": "text/x-python",
   "name": "python",
   "nbconvert_exporter": "python",
   "pygments_lexer": "ipython3",
   "version": "3.7.6"
  }
 },
 "nbformat": 4,
 "nbformat_minor": 4
}
