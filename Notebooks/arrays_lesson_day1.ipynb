{
 "cells": [
  {
   "cell_type": "code",
   "execution_count": 15,
   "metadata": {},
   "outputs": [],
   "source": [
    "import numpy as np"
   ]
  },
  {
   "cell_type": "code",
   "execution_count": 16,
   "metadata": {},
   "outputs": [
    {
     "name": "stdout",
     "output_type": "stream",
     "text": [
      "[5 2 1] (3,)\n"
     ]
    }
   ],
   "source": [
    "# make a vector in np - 1D tensor\n",
    "import numpy as np\n",
    "\n",
    "v = np.array([5,2,1])\n",
    "\n",
    "print(v, v.shape)"
   ]
  },
  {
   "cell_type": "code",
   "execution_count": 17,
   "metadata": {},
   "outputs": [
    {
     "data": {
      "text/plain": [
       "2"
      ]
     },
     "execution_count": 17,
     "metadata": {},
     "output_type": "execute_result"
    }
   ],
   "source": [
    "# element access in a vector\n",
    "v[1]"
   ]
  },
  {
   "cell_type": "code",
   "execution_count": 18,
   "metadata": {},
   "outputs": [
    {
     "name": "stdout",
     "output_type": "stream",
     "text": [
      "(1, 3)\n"
     ]
    }
   ],
   "source": [
    "# making a 2d tensor out of the same data (aka a row a matrix)\n",
    "# this dimension (or higher) is needed for ML frameworks!\n",
    "v = np.array([[5, 2, 1]])\n",
    "\n",
    "print(v.shape)  # now we are saying we have at least 1 sample, \n",
    "# with the 3 elements \n",
    "# as features"
   ]
  },
  {
   "cell_type": "code",
   "execution_count": 19,
   "metadata": {},
   "outputs": [
    {
     "name": "stdout",
     "output_type": "stream",
     "text": [
      "[[5 2 1]]\n",
      "[5 2 1]\n"
     ]
    }
   ],
   "source": [
    "# how it's stored in memory\n",
    "print(v)\n",
    "# elements accessed from a matrix\n",
    "print(v[0])"
   ]
  },
  {
   "cell_type": "code",
   "execution_count": 20,
   "metadata": {},
   "outputs": [
    {
     "name": "stdout",
     "output_type": "stream",
     "text": [
      "[[5]\n",
      " [2]\n",
      " [1]]\n",
      "Shape: (3, 1)\n"
     ]
    }
   ],
   "source": [
    "# converting the matrix to a column vector\n",
    "v_t = np.transpose(v)\n",
    "\n",
    "print(v_t)\n",
    "\n",
    "print(f\"Shape: {v_t.shape}\")"
   ]
  },
  {
   "cell_type": "code",
   "execution_count": 21,
   "metadata": {},
   "outputs": [
    {
     "data": {
      "text/plain": [
       "2"
      ]
     },
     "execution_count": 21,
     "metadata": {},
     "output_type": "execute_result"
    }
   ],
   "source": [
    "# Notice accesing elements has changed \n",
    "# v_t[1] - throws error\n",
    "\n",
    "# second eelemnt is INSTEAD\n",
    "v_t[1][0]"
   ]
  },
  {
   "cell_type": "code",
   "execution_count": 22,
   "metadata": {},
   "outputs": [],
   "source": [
    "# Make a matrix \n",
    "v = np.array([[1, 2, 3], [4, 5, 6]])"
   ]
  },
  {
   "cell_type": "code",
   "execution_count": 23,
   "metadata": {},
   "outputs": [
    {
     "name": "stdout",
     "output_type": "stream",
     "text": [
      "6\n",
      "(2, 3)\n"
     ]
    }
   ],
   "source": [
    "# diff between shape and size\n",
    "\n",
    "print(v.size)  # num of elem\n",
    "print(v.shape)  # prints dims"
   ]
  },
  {
   "cell_type": "code",
   "execution_count": 24,
   "metadata": {},
   "outputs": [
    {
     "name": "stdout",
     "output_type": "stream",
     "text": [
      "[[1 4]\n",
      " [2 5]\n",
      " [3 6]]\n",
      "6\n",
      "(3, 2)\n"
     ]
    }
   ],
   "source": [
    "# What happens if we transpose?\n",
    "# the rows and cols are switches...\n",
    "# each column turns into a corresponding row!\n",
    "# we call this a column matrix\n",
    "v_t = np.transpose(v)\n",
    "print(v_t)\n",
    "print(v_t.size)\n",
    "print(v_t.shape)"
   ]
  },
  {
   "cell_type": "code",
   "execution_count": 26,
   "metadata": {},
   "outputs": [
    {
     "name": "stdout",
     "output_type": "stream",
     "text": [
      "[[1 2]\n",
      " [3 2]\n",
      " [0 1]]\n",
      "[[[1 2]]\n",
      "\n",
      " [[3 2]]\n",
      "\n",
      " [[0 1]]]\n",
      "[[[1 2]]\n",
      "\n",
      " [[3 2]]\n",
      "\n",
      " [[0 1]]]\n"
     ]
    }
   ],
   "source": [
    "# Arrange or Reshape the Matrix\n",
    "\n",
    "v = np.array([[1,2,3],[2, 0, 1]])\n",
    "print(v.reshape(3,2))\n",
    "\n",
    "# By applying the following reshape, we transform the matrix into 3D Tensor\n",
    "\n",
    "print(v.reshape(3,1,2))\n",
    "print(v.reshape(-1,1,2))"
   ]
  },
  {
   "cell_type": "code",
   "execution_count": 29,
   "metadata": {},
   "outputs": [
    {
     "name": "stdout",
     "output_type": "stream",
     "text": [
      "[[[ 1.  2.  3.]\n",
      "  [ 4.  5.  6.]]\n",
      "\n",
      " [[ 7.  8.  9.]\n",
      "  [11. 12. 13.]]]\n"
     ]
    },
    {
     "data": {
      "text/plain": [
       "'\\n# The first element of shape shows how many, and the second and third elements shows the dimension\\nprint(v.shape)\\n\\nprint(v[0])\\n\\nprint(v[1])\\n\\nprint(v[2])\\n\\nprint(v.size)\\n\\nprint(v.reshape(3,2,-1))\\n\\nprint(v.reshape(3,-1,1))'"
      ]
     },
     "execution_count": 29,
     "metadata": {},
     "output_type": "execute_result"
    }
   ],
   "source": [
    "# make a 3d tensor\n",
    "v = np.array([[[1., 2.,3.], [4.,5.,6.]], [[7.,8.,9.], [11.,12.,13.]]])\n",
    "\n",
    "print(v)\n",
    "\"\"\"\n",
    "# The first element of shape shows how many, and the second and third elements shows the dimension\n",
    "print(v.shape)\n",
    "\n",
    "print(v[0])\n",
    "\n",
    "print(v[1])\n",
    "\n",
    "print(v[2])\n",
    "\n",
    "print(v.size)\n",
    "\n",
    "print(v.reshape(3,2,-1))\n",
    "\n",
    "print(v.reshape(3,-1,1))\"\"\""
   ]
  },
  {
   "cell_type": "code",
   "execution_count": 30,
   "metadata": {},
   "outputs": [
    {
     "data": {
      "text/plain": [
       "array([[ 1.,  2.,  3.,  4.,  5.,  6.,  7.,  8.,  9., 11., 12., 13.]])"
      ]
     },
     "execution_count": 30,
     "metadata": {},
     "output_type": "execute_result"
    }
   ],
   "source": [
    "# transformsing to  1d tensoe = lots of possibilities\n",
    "\n",
    "a = v.reshape(1, 12)\n",
    "a"
   ]
  },
  {
   "cell_type": "code",
   "execution_count": 31,
   "metadata": {},
   "outputs": [
    {
     "data": {
      "text/plain": [
       "array([[ 1.],\n",
       "       [ 2.],\n",
       "       [ 3.],\n",
       "       [ 4.],\n",
       "       [ 5.],\n",
       "       [ 6.],\n",
       "       [ 7.],\n",
       "       [ 8.],\n",
       "       [ 9.],\n",
       "       [11.],\n",
       "       [12.],\n",
       "       [13.]])"
      ]
     },
     "execution_count": 31,
     "metadata": {},
     "output_type": "execute_result"
    }
   ],
   "source": [
    "b = v.reshape(12, 1)\n",
    "b"
   ]
  },
  {
   "cell_type": "code",
   "execution_count": null,
   "metadata": {},
   "outputs": [],
   "source": []
  }
 ],
 "metadata": {
  "kernelspec": {
   "display_name": "Python 3",
   "language": "python",
   "name": "python3"
  },
  "language_info": {
   "codemirror_mode": {
    "name": "ipython",
    "version": 3
   },
   "file_extension": ".py",
   "mimetype": "text/x-python",
   "name": "python",
   "nbconvert_exporter": "python",
   "pygments_lexer": "ipython3",
   "version": "3.7.6"
  }
 },
 "nbformat": 4,
 "nbformat_minor": 4
}
