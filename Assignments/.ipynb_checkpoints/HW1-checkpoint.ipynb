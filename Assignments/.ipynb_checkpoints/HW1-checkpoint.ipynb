{
 "cells": [
  {
   "cell_type": "markdown",
   "metadata": {},
   "source": [
    "## Homework 1:\n",
    "\n",
    "1- Build a Keras Model for linear regression (check: https://keras.io/activations/). Use Boston Housing Dataset to train and test your model\n",
    "\n",
    "2- Build a Keras Model for logistic regression. Use diabetes.csv to train and test\n",
    "\n",
    "Comments:\n",
    "\n",
    "1- Build the **simplest model** for linear regression with Keras and compare your model performance with `from sklearn.linear_model import LinearRegression`\n",
    "\n",
    "2- Build the **simplest model** for logistic regression with Keras and compare your model performance with `from sklearn.linear_model import LogisticRegression`\n",
    "\n",
    "3- **Add more complexity to your models in (1) and (2)** and compare with previous results"
   ]
  },
  {
   "cell_type": "markdown",
   "metadata": {},
   "source": [
    "## Imports"
   ]
  },
  {
   "cell_type": "code",
   "execution_count": 3,
   "metadata": {},
   "outputs": [],
   "source": [
    "# Keras imports\n",
    "import tensorflow.keras as K\n",
    "from keras.layers import Input, Dense\n",
    "from keras.models import Model, Sequential\n",
    "# import the data, and function to split it\n",
    "from sklearn.datasets import load_boston, load_diabetes\n",
    "from sklearn.model_selection import train_test_split\n",
    "# the models from sklearn\n",
    "from sklearn.linear_model import LinearRegression, LogisticRegression\n",
    "# metrics for evaluating regression and classification from sklearn\n",
    "from sklearn.metrics import mean_squared_error, confusion_matrix\n",
    "# Pandas and Numpy for data analysis, mathematical computation\n",
    "import pandas as pd\n",
    "import numpy as np"
   ]
  },
  {
   "cell_type": "markdown",
   "metadata": {},
   "source": [
    "## 1 - Linear Regression in Keras (Boston Dataset)"
   ]
  },
  {
   "cell_type": "code",
   "execution_count": 4,
   "metadata": {},
   "outputs": [
    {
     "name": "stdout",
     "output_type": "stream",
     "text": [
      ".. _boston_dataset:\n",
      "\n",
      "Boston house prices dataset\n",
      "---------------------------\n",
      "\n",
      "**Data Set Characteristics:**  \n",
      "\n",
      "    :Number of Instances: 506 \n",
      "\n",
      "    :Number of Attributes: 13 numeric/categorical predictive. Median Value (attribute 14) is usually the target.\n",
      "\n",
      "    :Attribute Information (in order):\n",
      "        - CRIM     per capita crime rate by town\n",
      "        - ZN       proportion of residential land zoned for lots over 25,000 sq.ft.\n",
      "        - INDUS    proportion of non-retail business acres per town\n",
      "        - CHAS     Charles River dummy variable (= 1 if tract bounds river; 0 otherwise)\n",
      "        - NOX      nitric oxides concentration (parts per 10 million)\n",
      "        - RM       average number of rooms per dwelling\n",
      "        - AGE      proportion of owner-occupied units built prior to 1940\n",
      "        - DIS      weighted distances to five Boston employment centres\n",
      "        - RAD      index of accessibility to radial highways\n",
      "        - TAX      full-value property-tax rate per $10,000\n",
      "        - PTRATIO  pupil-teacher ratio by town\n",
      "        - B        1000(Bk - 0.63)^2 where Bk is the proportion of blacks by town\n",
      "        - LSTAT    % lower status of the population\n",
      "        - MEDV     Median value of owner-occupied homes in $1000's\n",
      "\n",
      "    :Missing Attribute Values: None\n",
      "\n",
      "    :Creator: Harrison, D. and Rubinfeld, D.L.\n",
      "\n",
      "This is a copy of UCI ML housing dataset.\n",
      "https://archive.ics.uci.edu/ml/machine-learning-databases/housing/\n",
      "\n",
      "\n",
      "This dataset was taken from the StatLib library which is maintained at Carnegie Mellon University.\n",
      "\n",
      "The Boston house-price data of Harrison, D. and Rubinfeld, D.L. 'Hedonic\n",
      "prices and the demand for clean air', J. Environ. Economics & Management,\n",
      "vol.5, 81-102, 1978.   Used in Belsley, Kuh & Welsch, 'Regression diagnostics\n",
      "...', Wiley, 1980.   N.B. Various transformations are used in the table on\n",
      "pages 244-261 of the latter.\n",
      "\n",
      "The Boston house-price data has been used in many machine learning papers that address regression\n",
      "problems.   \n",
      "     \n",
      ".. topic:: References\n",
      "\n",
      "   - Belsley, Kuh & Welsch, 'Regression diagnostics: Identifying Influential Data and Sources of Collinearity', Wiley, 1980. 244-261.\n",
      "   - Quinlan,R. (1993). Combining Instance-Based and Model-Based Learning. In Proceedings on the Tenth International Conference of Machine Learning, 236-243, University of Massachusetts, Amherst. Morgan Kaufmann.\n",
      "\n"
     ]
    }
   ],
   "source": [
    "# store the Boston data in variables\n",
    "boston = load_boston()\n",
    "boston_X, boston_y = boston.data, boston.target\n",
    "\n",
    "# split the data\n",
    "x_train, x_test, y_train, y_test = train_test_split(boston_X, boston_y, test_size=0.3, random_state=0)\n",
    "\n",
    "# remind ourselves about the details of the dataset\n",
    "print(boston.DESCR)"
   ]
  },
  {
   "cell_type": "markdown",
   "metadata": {},
   "source": [
    "### Implemenation of the Deep Learning Model"
   ]
  },
  {
   "cell_type": "code",
   "execution_count": 7,
   "metadata": {},
   "outputs": [
    {
     "name": "stdout",
     "output_type": "stream",
     "text": [
      "MSE = 32.31\n"
     ]
    }
   ],
   "source": [
    "# using the Functional API\n",
    "inp = Input(shape=(13,))\n",
    "x = Dense(64, activation='sigmoid')(inp)\n",
    "# Output layer - one output neuron, and activation function is linear\n",
    "out = Dense(1, activation='linear')(x)\n",
    "dl_linreg = Model(inputs=inp, outputs=out)\n",
    "# The loss function should be mse or mae\n",
    "dl_linreg.compile(optimizer='adam', loss='mse', metrics=[\"mean_squared_error\"])\n",
    "dl_linreg.fit(x_train, y_train, epochs=100, batch_size=1, verbose=0);\n",
    "loss, error = dl_linreg.evaluate(x_test, y_test, verbose=0)\n",
    "print(\"MSE = {:.2f}\".format(error))"
   ]
  },
  {
   "cell_type": "markdown",
   "metadata": {},
   "source": [
    "### Compared to SciKit-Learn"
   ]
  },
  {
   "cell_type": "code",
   "execution_count": 8,
   "metadata": {},
   "outputs": [
    {
     "name": "stdout",
     "output_type": "stream",
     "text": [
      "MSE: 27.2\n"
     ]
    }
   ],
   "source": [
    "# Instantiation and Training\n",
    "ml_linreg = LinearRegression().fit(x_train, y_train)\n",
    "# Testing and Evaluating the Model\n",
    "y_pred = ml_linreg.predict(x_test)\n",
    "error = round(mean_squared_error(y_test, y_pred), 2)\n",
    "print(f\"MSE: {error}\")"
   ]
  },
  {
   "cell_type": "markdown",
   "metadata": {},
   "source": [
    "**Conclusion: Keras vs. Scikit-Learn for Regression?**\n",
    "\n",
    "As you can see above, the linear regression model implemented in Keras has a lower error score than the one implemented in Scikit-learn. However, I will confess that the Keras model also has a lot more *variance* than the Scikit-learn model. The result you see from cell 32 above is only the result after I ran the cell multiple times. Sometimes the MSE from the Keras model was lower than from Scikit-learn; and other times it was not, in a seemingly random pattern."
   ]
  },
  {
   "cell_type": "markdown",
   "metadata": {},
   "source": [
    "## 2 - Logistic Regression in Keras (Diabetes Dataset)"
   ]
  },
  {
   "cell_type": "code",
   "execution_count": 9,
   "metadata": {},
   "outputs": [
    {
     "data": {
      "text/html": [
       "<div>\n",
       "<style scoped>\n",
       "    .dataframe tbody tr th:only-of-type {\n",
       "        vertical-align: middle;\n",
       "    }\n",
       "\n",
       "    .dataframe tbody tr th {\n",
       "        vertical-align: top;\n",
       "    }\n",
       "\n",
       "    .dataframe thead th {\n",
       "        text-align: right;\n",
       "    }\n",
       "</style>\n",
       "<table border=\"1\" class=\"dataframe\">\n",
       "  <thead>\n",
       "    <tr style=\"text-align: right;\">\n",
       "      <th></th>\n",
       "      <th>Pregnancies</th>\n",
       "      <th>Glucose</th>\n",
       "      <th>BloodPressure</th>\n",
       "      <th>SkinThickness</th>\n",
       "      <th>Insulin</th>\n",
       "      <th>BMI</th>\n",
       "      <th>DiabetesPedigreeFunction</th>\n",
       "      <th>Age</th>\n",
       "      <th>Outcome</th>\n",
       "    </tr>\n",
       "  </thead>\n",
       "  <tbody>\n",
       "    <tr>\n",
       "      <th>0</th>\n",
       "      <td>6</td>\n",
       "      <td>148</td>\n",
       "      <td>72</td>\n",
       "      <td>35</td>\n",
       "      <td>0</td>\n",
       "      <td>33.6</td>\n",
       "      <td>0.627</td>\n",
       "      <td>50</td>\n",
       "      <td>1</td>\n",
       "    </tr>\n",
       "    <tr>\n",
       "      <th>1</th>\n",
       "      <td>1</td>\n",
       "      <td>85</td>\n",
       "      <td>66</td>\n",
       "      <td>29</td>\n",
       "      <td>0</td>\n",
       "      <td>26.6</td>\n",
       "      <td>0.351</td>\n",
       "      <td>31</td>\n",
       "      <td>0</td>\n",
       "    </tr>\n",
       "    <tr>\n",
       "      <th>2</th>\n",
       "      <td>8</td>\n",
       "      <td>183</td>\n",
       "      <td>64</td>\n",
       "      <td>0</td>\n",
       "      <td>0</td>\n",
       "      <td>23.3</td>\n",
       "      <td>0.672</td>\n",
       "      <td>32</td>\n",
       "      <td>1</td>\n",
       "    </tr>\n",
       "    <tr>\n",
       "      <th>3</th>\n",
       "      <td>1</td>\n",
       "      <td>89</td>\n",
       "      <td>66</td>\n",
       "      <td>23</td>\n",
       "      <td>94</td>\n",
       "      <td>28.1</td>\n",
       "      <td>0.167</td>\n",
       "      <td>21</td>\n",
       "      <td>0</td>\n",
       "    </tr>\n",
       "    <tr>\n",
       "      <th>4</th>\n",
       "      <td>0</td>\n",
       "      <td>137</td>\n",
       "      <td>40</td>\n",
       "      <td>35</td>\n",
       "      <td>168</td>\n",
       "      <td>43.1</td>\n",
       "      <td>2.288</td>\n",
       "      <td>33</td>\n",
       "      <td>1</td>\n",
       "    </tr>\n",
       "  </tbody>\n",
       "</table>\n",
       "</div>"
      ],
      "text/plain": [
       "   Pregnancies  Glucose  BloodPressure  SkinThickness  Insulin   BMI  \\\n",
       "0            6      148             72             35        0  33.6   \n",
       "1            1       85             66             29        0  26.6   \n",
       "2            8      183             64              0        0  23.3   \n",
       "3            1       89             66             23       94  28.1   \n",
       "4            0      137             40             35      168  43.1   \n",
       "\n",
       "   DiabetesPedigreeFunction  Age  Outcome  \n",
       "0                     0.627   50        1  \n",
       "1                     0.351   31        0  \n",
       "2                     0.672   32        1  \n",
       "3                     0.167   21        0  \n",
       "4                     2.288   33        1  "
      ]
     },
     "execution_count": 9,
     "metadata": {},
     "output_type": "execute_result"
    }
   ],
   "source": [
    "# store the diabetes data in variables\n",
    "pima = pd.read_csv('diabetes.csv')\n",
    "\n",
    "feature_cols = ['Pregnancies', 'Insulin', 'BMI', 'Age']\n",
    "\n",
    "# X is a matrix, access the features we want in feature_cols\n",
    "diabetes_X = pima[feature_cols]\n",
    "\n",
    "# y is a vector, hence we use dot to access 'label'\n",
    "diabetes_y = pima['Outcome']\n",
    "\n",
    "# split the data\n",
    "x_train, x_test, y_train, y_test = train_test_split(diabetes_X, diabetes_y, test_size=0.3, random_state=0)\n",
    "\n",
    "# remind ourselves about the details of the dataset\n",
    "pima.head()"
   ]
  },
  {
   "cell_type": "markdown",
   "metadata": {},
   "source": [
    "### Implementation in Keras"
   ]
  },
  {
   "cell_type": "code",
   "execution_count": 10,
   "metadata": {},
   "outputs": [
    {
     "name": "stdout",
     "output_type": "stream",
     "text": [
      "WARNING:tensorflow:From /Users/zainraza/Downloads/dev/courses/DS/DS-2.2-Deep-Learning/env/lib/python3.7/site-packages/tensorflow/python/ops/nn_impl.py:180: add_dispatch_support.<locals>.wrapper (from tensorflow.python.ops.array_ops) is deprecated and will be removed in a future version.\n",
      "Instructions for updating:\n",
      "Use tf.where in 2.0, which has the same broadcast rule as np.where\n",
      "Epoch 1/100\n",
      "537/537 [==============================] - 1s 1ms/step - loss: 4.7158 - acc: 0.5289\n",
      "Epoch 2/100\n",
      "537/537 [==============================] - 0s 867us/step - loss: 3.3485 - acc: 0.5810\n",
      "Epoch 3/100\n",
      "537/537 [==============================] - 0s 822us/step - loss: 3.3012 - acc: 0.5922\n",
      "Epoch 4/100\n",
      "537/537 [==============================] - 0s 814us/step - loss: 3.2771 - acc: 0.6034\n",
      "Epoch 5/100\n",
      "537/537 [==============================] - 0s 848us/step - loss: 3.2568 - acc: 0.6071\n",
      "Epoch 6/100\n",
      "537/537 [==============================] - 0s 818us/step - loss: 3.2395 - acc: 0.6164\n",
      "Epoch 7/100\n",
      "537/537 [==============================] - 0s 857us/step - loss: 3.2379 - acc: 0.6071\n",
      "Epoch 8/100\n",
      "537/537 [==============================] - 0s 846us/step - loss: 3.2286 - acc: 0.6294\n",
      "Epoch 9/100\n",
      "537/537 [==============================] - 0s 838us/step - loss: 3.2255 - acc: 0.6443\n",
      "Epoch 10/100\n",
      "537/537 [==============================] - 0s 836us/step - loss: 3.2194 - acc: 0.6425\n",
      "Epoch 11/100\n",
      "537/537 [==============================] - 1s 939us/step - loss: 3.2174 - acc: 0.6350\n",
      "Epoch 12/100\n",
      "537/537 [==============================] - 1s 2ms/step - loss: 3.2188 - acc: 0.6238\n",
      "Epoch 13/100\n",
      "537/537 [==============================] - 1s 1ms/step - loss: 3.2186 - acc: 0.6387\n",
      "Epoch 14/100\n",
      "537/537 [==============================] - 0s 779us/step - loss: 3.2187 - acc: 0.6294\n",
      "Epoch 15/100\n",
      "537/537 [==============================] - 0s 916us/step - loss: 3.2134 - acc: 0.6369\n",
      "Epoch 16/100\n",
      "537/537 [==============================] - 0s 824us/step - loss: 3.2142 - acc: 0.6331\n",
      "Epoch 17/100\n",
      "537/537 [==============================] - 0s 823us/step - loss: 3.2129 - acc: 0.6387\n",
      "Epoch 18/100\n",
      "537/537 [==============================] - 0s 909us/step - loss: 3.2068 - acc: 0.6443\n",
      "Epoch 19/100\n",
      "537/537 [==============================] - 0s 803us/step - loss: 3.2046 - acc: 0.6480\n",
      "Epoch 20/100\n",
      "537/537 [==============================] - 0s 825us/step - loss: 3.2069 - acc: 0.6313\n",
      "Epoch 21/100\n",
      "537/537 [==============================] - 0s 808us/step - loss: 3.2093 - acc: 0.6387\n",
      "Epoch 22/100\n",
      "537/537 [==============================] - 1s 961us/step - loss: 3.2073 - acc: 0.6518\n",
      "Epoch 23/100\n",
      "537/537 [==============================] - 0s 799us/step - loss: 3.2033 - acc: 0.6238\n",
      "Epoch 24/100\n",
      "537/537 [==============================] - 0s 814us/step - loss: 3.1996 - acc: 0.6629\n",
      "Epoch 25/100\n",
      "537/537 [==============================] - 0s 804us/step - loss: 3.1971 - acc: 0.6387\n",
      "Epoch 26/100\n",
      "537/537 [==============================] - 0s 794us/step - loss: 3.1959 - acc: 0.6462\n",
      "Epoch 27/100\n",
      "537/537 [==============================] - 0s 794us/step - loss: 3.1901 - acc: 0.6536\n",
      "Epoch 28/100\n",
      "537/537 [==============================] - 0s 806us/step - loss: 3.1845 - acc: 0.6499\n",
      "Epoch 29/100\n",
      "537/537 [==============================] - 0s 794us/step - loss: 3.1858 - acc: 0.6536\n",
      "Epoch 30/100\n",
      "537/537 [==============================] - 0s 788us/step - loss: 3.1831 - acc: 0.6443\n",
      "Epoch 31/100\n",
      "537/537 [==============================] - 0s 766us/step - loss: 3.1740 - acc: 0.6536\n",
      "Epoch 32/100\n",
      "537/537 [==============================] - 0s 673us/step - loss: 3.1285 - acc: 0.6518\n",
      "Epoch 33/100\n",
      "537/537 [==============================] - 1s 988us/step - loss: 0.8547 - acc: 0.6089\n",
      "Epoch 34/100\n",
      "537/537 [==============================] - 1s 932us/step - loss: 0.6610 - acc: 0.6294\n",
      "Epoch 35/100\n",
      "537/537 [==============================] - 0s 899us/step - loss: 0.6520 - acc: 0.6611\n",
      "Epoch 36/100\n",
      "537/537 [==============================] - 0s 917us/step - loss: 0.6601 - acc: 0.6369\n",
      "Epoch 37/100\n",
      "537/537 [==============================] - 1s 942us/step - loss: 0.6499 - acc: 0.6276\n",
      "Epoch 38/100\n",
      "537/537 [==============================] - 1s 945us/step - loss: 0.6417 - acc: 0.6555\n",
      "Epoch 39/100\n",
      "537/537 [==============================] - 0s 809us/step - loss: 0.6380 - acc: 0.6574\n",
      "Epoch 40/100\n",
      "537/537 [==============================] - 0s 785us/step - loss: 0.6497 - acc: 0.6480\n",
      "Epoch 41/100\n",
      "537/537 [==============================] - 0s 798us/step - loss: 0.6392 - acc: 0.6499\n",
      "Epoch 42/100\n",
      "537/537 [==============================] - 0s 793us/step - loss: 0.6374 - acc: 0.6369\n",
      "Epoch 43/100\n",
      "537/537 [==============================] - 0s 796us/step - loss: 0.6376 - acc: 0.6685\n",
      "Epoch 44/100\n",
      "537/537 [==============================] - 0s 785us/step - loss: 0.6389 - acc: 0.6406\n",
      "Epoch 45/100\n",
      "537/537 [==============================] - 0s 820us/step - loss: 0.6444 - acc: 0.6499\n",
      "Epoch 46/100\n",
      "537/537 [==============================] - 0s 873us/step - loss: 0.6386 - acc: 0.6518\n",
      "Epoch 47/100\n",
      "537/537 [==============================] - 0s 874us/step - loss: 0.6475 - acc: 0.6574\n",
      "Epoch 48/100\n",
      "537/537 [==============================] - 0s 830us/step - loss: 0.6440 - acc: 0.6443\n",
      "Epoch 49/100\n",
      "537/537 [==============================] - 0s 918us/step - loss: 0.6485 - acc: 0.6369\n",
      "Epoch 50/100\n",
      "537/537 [==============================] - 0s 841us/step - loss: 0.6236 - acc: 0.6592\n",
      "Epoch 51/100\n",
      "537/537 [==============================] - 0s 848us/step - loss: 0.6444 - acc: 0.6294\n",
      "Epoch 52/100\n",
      "537/537 [==============================] - 0s 846us/step - loss: 0.6314 - acc: 0.6555\n",
      "Epoch 53/100\n",
      "537/537 [==============================] - 0s 831us/step - loss: 0.6257 - acc: 0.6499\n",
      "Epoch 54/100\n",
      "537/537 [==============================] - 0s 838us/step - loss: 0.6449 - acc: 0.6238\n",
      "Epoch 55/100\n",
      "537/537 [==============================] - 0s 883us/step - loss: 0.6348 - acc: 0.6629\n",
      "Epoch 56/100\n",
      "537/537 [==============================] - 0s 834us/step - loss: 0.6402 - acc: 0.6387\n",
      "Epoch 57/100\n",
      "537/537 [==============================] - 0s 827us/step - loss: 0.6295 - acc: 0.6611\n",
      "Epoch 58/100\n",
      "537/537 [==============================] - 0s 799us/step - loss: 0.6232 - acc: 0.6797\n",
      "Epoch 59/100\n",
      "537/537 [==============================] - 0s 790us/step - loss: 0.6370 - acc: 0.6499\n",
      "Epoch 60/100\n",
      "537/537 [==============================] - 0s 786us/step - loss: 0.6335 - acc: 0.6592\n",
      "Epoch 61/100\n",
      "537/537 [==============================] - 0s 841us/step - loss: 0.6272 - acc: 0.6704\n",
      "Epoch 62/100\n",
      "537/537 [==============================] - 0s 840us/step - loss: 0.6373 - acc: 0.6555 0s - loss: 0.6400 - acc: 0.646\n",
      "Epoch 63/100\n",
      "537/537 [==============================] - 0s 787us/step - loss: 0.6198 - acc: 0.6629\n",
      "Epoch 64/100\n",
      "537/537 [==============================] - 0s 788us/step - loss: 0.6314 - acc: 0.6480\n",
      "Epoch 65/100\n",
      "537/537 [==============================] - 0s 786us/step - loss: 0.6202 - acc: 0.6611\n",
      "Epoch 66/100\n",
      "537/537 [==============================] - 0s 786us/step - loss: 0.6192 - acc: 0.6611\n",
      "Epoch 67/100\n",
      "537/537 [==============================] - 0s 777us/step - loss: 0.6319 - acc: 0.6294\n",
      "Epoch 68/100\n",
      "537/537 [==============================] - 0s 790us/step - loss: 0.6202 - acc: 0.6778\n",
      "Epoch 69/100\n",
      "537/537 [==============================] - 0s 787us/step - loss: 0.6218 - acc: 0.6574\n",
      "Epoch 70/100\n",
      "537/537 [==============================] - 0s 786us/step - loss: 0.6228 - acc: 0.6592\n",
      "Epoch 71/100\n",
      "537/537 [==============================] - 0s 785us/step - loss: 0.6279 - acc: 0.6313\n",
      "Epoch 72/100\n",
      "537/537 [==============================] - 0s 782us/step - loss: 0.6209 - acc: 0.6667\n",
      "Epoch 73/100\n",
      "537/537 [==============================] - 0s 786us/step - loss: 0.6189 - acc: 0.6425\n",
      "Epoch 74/100\n",
      "537/537 [==============================] - 0s 794us/step - loss: 0.6251 - acc: 0.6425\n",
      "Epoch 75/100\n",
      "537/537 [==============================] - 0s 796us/step - loss: 0.6194 - acc: 0.6629\n",
      "Epoch 76/100\n",
      "537/537 [==============================] - 0s 777us/step - loss: 0.6266 - acc: 0.6518\n",
      "Epoch 77/100\n",
      "537/537 [==============================] - 0s 790us/step - loss: 0.6164 - acc: 0.6704\n",
      "Epoch 78/100\n",
      "537/537 [==============================] - 0s 783us/step - loss: 0.6198 - acc: 0.6667\n",
      "Epoch 79/100\n"
     ]
    },
    {
     "name": "stdout",
     "output_type": "stream",
     "text": [
      "537/537 [==============================] - 0s 791us/step - loss: 0.6188 - acc: 0.6592\n",
      "Epoch 80/100\n",
      "537/537 [==============================] - 0s 785us/step - loss: 0.6131 - acc: 0.6387\n",
      "Epoch 81/100\n",
      "537/537 [==============================] - 0s 804us/step - loss: 0.6201 - acc: 0.6574\n",
      "Epoch 82/100\n",
      "537/537 [==============================] - 0s 801us/step - loss: 0.6013 - acc: 0.6536\n",
      "Epoch 83/100\n",
      "537/537 [==============================] - 0s 788us/step - loss: 0.6229 - acc: 0.6592\n",
      "Epoch 84/100\n",
      "537/537 [==============================] - 0s 787us/step - loss: 0.6060 - acc: 0.6797\n",
      "Epoch 85/100\n",
      "537/537 [==============================] - 0s 784us/step - loss: 0.6137 - acc: 0.6443\n",
      "Epoch 86/100\n",
      "537/537 [==============================] - 0s 781us/step - loss: 0.6255 - acc: 0.6574\n",
      "Epoch 87/100\n",
      "537/537 [==============================] - 0s 794us/step - loss: 0.6159 - acc: 0.6648\n",
      "Epoch 88/100\n",
      "537/537 [==============================] - 0s 782us/step - loss: 0.6057 - acc: 0.6536\n",
      "Epoch 89/100\n",
      "537/537 [==============================] - 0s 778us/step - loss: 0.6105 - acc: 0.6685\n",
      "Epoch 90/100\n",
      "537/537 [==============================] - 0s 782us/step - loss: 0.6315 - acc: 0.6294\n",
      "Epoch 91/100\n",
      "537/537 [==============================] - 0s 780us/step - loss: 0.6173 - acc: 0.6741\n",
      "Epoch 92/100\n",
      "537/537 [==============================] - 0s 783us/step - loss: 0.6122 - acc: 0.6741\n",
      "Epoch 93/100\n",
      "537/537 [==============================] - 0s 817us/step - loss: 0.6193 - acc: 0.6574\n",
      "Epoch 94/100\n",
      "537/537 [==============================] - 0s 820us/step - loss: 0.6120 - acc: 0.6667\n",
      "Epoch 95/100\n",
      "537/537 [==============================] - 0s 883us/step - loss: 0.6167 - acc: 0.6536\n",
      "Epoch 96/100\n",
      "537/537 [==============================] - 0s 861us/step - loss: 0.6125 - acc: 0.6592\n",
      "Epoch 97/100\n",
      "537/537 [==============================] - 0s 841us/step - loss: 0.6057 - acc: 0.6704\n",
      "Epoch 98/100\n",
      "537/537 [==============================] - 0s 845us/step - loss: 0.6057 - acc: 0.6723\n",
      "Epoch 99/100\n",
      "537/537 [==============================] - 0s 792us/step - loss: 0.6095 - acc: 0.6592\n",
      "Epoch 100/100\n",
      "537/537 [==============================] - 0s 791us/step - loss: 0.6001 - acc: 0.6723\n",
      "Accuracy = 0.63\n"
     ]
    }
   ],
   "source": [
    "# Keras Sequential API\n",
    "dl_logreg = Sequential()\n",
    "# in binary classification, the activation function is sigmoidal\n",
    "dl_logreg.add(Dense(1, input_shape=(4,), activation='sigmoid'))\n",
    "# the loss function is binary_crossentropy\n",
    "dl_logreg.compile(optimizer='adam', loss='binary_crossentropy', metrics=[\"accuracy\"])\n",
    "dl_logreg.fit(x_train, y_train, epochs=100, batch_size=1, verbose=1);\n",
    "loss, accuracy = dl_logreg.evaluate(x_test, y_test, verbose=0)\n",
    "print(\"Accuracy = {:.2f}\".format(accuracy))"
   ]
  },
  {
   "cell_type": "markdown",
   "metadata": {},
   "source": [
    "### Compared to SciKit-Learn"
   ]
  },
  {
   "cell_type": "code",
   "execution_count": 11,
   "metadata": {},
   "outputs": [
    {
     "name": "stdout",
     "output_type": "stream",
     "text": [
      "Accuracy: 21.6%\n"
     ]
    }
   ],
   "source": [
    "# Instantiating and Training the Model\n",
    "ml_logreg = LogisticRegression().fit(x_train, y_train)\n",
    "# Testing the Model\n",
    "y_pred = ml_logreg.predict(x_test)\n",
    "# Evaluating Model Accuracy\n",
    "confusion = confusion_matrix(y_test, y_pred)\n",
    "TN, FP, FN, TP = confusion.ravel()\n",
    "accuracy = round(TP + TN / len(y_pred), 2)\n",
    "print(f'Accuracy: {accuracy}%')"
   ]
  },
  {
   "cell_type": "markdown",
   "metadata": {},
   "source": [
    "**Final Conclusion: Keras vs. Scikit-Learn for Classification?**\n",
    "\n",
    "As you can see above, the Keras logistic regression model achieved a higher accuracy percentage for the task of classifying subjects in the Pima Indians Diabetes dataset, as opposed to the one implemented using scikit-learn. Additionally, this value is stable; the Keras model's accuracy appeared not to change after multiple executions of the cell."
   ]
  },
  {
   "cell_type": "markdown",
   "metadata": {},
   "source": [
    "## 3 - Improving Results"
   ]
  },
  {
   "cell_type": "markdown",
   "metadata": {},
   "source": [
    "### Improving the Sklearn model"
   ]
  },
  {
   "cell_type": "code",
   "execution_count": null,
   "metadata": {},
   "outputs": [],
   "source": [
    "# Normalizing the Boston data to a Z-distribution\n"
   ]
  }
 ],
 "metadata": {
  "kernelspec": {
   "display_name": "Python 3",
   "language": "python",
   "name": "python3"
  },
  "language_info": {
   "codemirror_mode": {
    "name": "ipython",
    "version": 3
   },
   "file_extension": ".py",
   "mimetype": "text/x-python",
   "name": "python",
   "nbconvert_exporter": "python",
   "pygments_lexer": "ipython3",
   "version": "3.7.6"
  }
 },
 "nbformat": 4,
 "nbformat_minor": 2
}
