{
 "cells": [
  {
   "cell_type": "markdown",
   "metadata": {},
   "source": [
    "## Homework 1:\n",
    "\n",
    "1- Build a Keras Model for linear regression (check: https://keras.io/activations/). Use Boston Housing Dataset to train and test your model\n",
    "\n",
    "2- Build a Keras Model for logistic regression. Use diabetes.csv to train and test\n",
    "\n",
    "Comments:\n",
    "\n",
    "1- Build the **simplest model** for linear regression with Keras and compare your model performance with `from sklearn.linear_model import LinearRegression`\n",
    "\n",
    "2- Build the **simplest model** for logistic regression with Keras and compare your model performance with `from sklearn.linear_model import LogisticRegression`\n",
    "\n",
    "3- **Add more complexity to your models in (1) and (2)** and compare with previous results"
   ]
  },
  {
   "cell_type": "markdown",
   "metadata": {},
   "source": [
    "## Imports"
   ]
  },
  {
   "cell_type": "code",
   "execution_count": 23,
   "metadata": {},
   "outputs": [],
   "source": [
    "# Keras imports\n",
    "import tensorflow.keras as K\n",
    "from keras.layers import Input, Dense, Dropout\n",
    "from keras.models import Model, Sequential\n",
    "# import the data, and function to split it\n",
    "from sklearn.datasets import load_boston, load_diabetes\n",
    "from sklearn.model_selection import train_test_split\n",
    "# the models from sklearn\n",
    "from sklearn.linear_model import LinearRegression, LogisticRegression\n",
    "# metrics for evaluating regression and classification from sklearn\n",
    "from sklearn.metrics import mean_squared_error, confusion_matrix\n",
    "# Pandas and Numpy for data analysis, mathematical computation\n",
    "import pandas as pd\n",
    "import numpy as np\n",
    "# Classes used for Optimization\n",
    "from sklearn.preprocessing import StandardScaler\n",
    "from keras.layers.normalization import BatchNormalization\n",
    "# Time the Training Process\n",
    "import time\n",
    "# Visualizing Results\n",
    "import matplotlib.pyplot as plt\n",
    "import seaborn as sns"
   ]
  },
  {
   "cell_type": "markdown",
   "metadata": {},
   "source": [
    "## 1 - Linear Regression in Keras (Boston Dataset)"
   ]
  },
  {
   "cell_type": "code",
   "execution_count": 24,
   "metadata": {},
   "outputs": [
    {
     "name": "stdout",
     "output_type": "stream",
     "text": [
      ".. _boston_dataset:\n",
      "\n",
      "Boston house prices dataset\n",
      "---------------------------\n",
      "\n",
      "**Data Set Characteristics:**  \n",
      "\n",
      "    :Number of Instances: 506 \n",
      "\n",
      "    :Number of Attributes: 13 numeric/categorical predictive. Median Value (attribute 14) is usually the target.\n",
      "\n",
      "    :Attribute Information (in order):\n",
      "        - CRIM     per capita crime rate by town\n",
      "        - ZN       proportion of residential land zoned for lots over 25,000 sq.ft.\n",
      "        - INDUS    proportion of non-retail business acres per town\n",
      "        - CHAS     Charles River dummy variable (= 1 if tract bounds river; 0 otherwise)\n",
      "        - NOX      nitric oxides concentration (parts per 10 million)\n",
      "        - RM       average number of rooms per dwelling\n",
      "        - AGE      proportion of owner-occupied units built prior to 1940\n",
      "        - DIS      weighted distances to five Boston employment centres\n",
      "        - RAD      index of accessibility to radial highways\n",
      "        - TAX      full-value property-tax rate per $10,000\n",
      "        - PTRATIO  pupil-teacher ratio by town\n",
      "        - B        1000(Bk - 0.63)^2 where Bk is the proportion of blacks by town\n",
      "        - LSTAT    % lower status of the population\n",
      "        - MEDV     Median value of owner-occupied homes in $1000's\n",
      "\n",
      "    :Missing Attribute Values: None\n",
      "\n",
      "    :Creator: Harrison, D. and Rubinfeld, D.L.\n",
      "\n",
      "This is a copy of UCI ML housing dataset.\n",
      "https://archive.ics.uci.edu/ml/machine-learning-databases/housing/\n",
      "\n",
      "\n",
      "This dataset was taken from the StatLib library which is maintained at Carnegie Mellon University.\n",
      "\n",
      "The Boston house-price data of Harrison, D. and Rubinfeld, D.L. 'Hedonic\n",
      "prices and the demand for clean air', J. Environ. Economics & Management,\n",
      "vol.5, 81-102, 1978.   Used in Belsley, Kuh & Welsch, 'Regression diagnostics\n",
      "...', Wiley, 1980.   N.B. Various transformations are used in the table on\n",
      "pages 244-261 of the latter.\n",
      "\n",
      "The Boston house-price data has been used in many machine learning papers that address regression\n",
      "problems.   \n",
      "     \n",
      ".. topic:: References\n",
      "\n",
      "   - Belsley, Kuh & Welsch, 'Regression diagnostics: Identifying Influential Data and Sources of Collinearity', Wiley, 1980. 244-261.\n",
      "   - Quinlan,R. (1993). Combining Instance-Based and Model-Based Learning. In Proceedings on the Tenth International Conference of Machine Learning, 236-243, University of Massachusetts, Amherst. Morgan Kaufmann.\n",
      "\n"
     ]
    }
   ],
   "source": [
    "# store the Boston data in variables\n",
    "boston = load_boston()\n",
    "boston_X, boston_y = boston.data, boston.target\n",
    "\n",
    "# split the data\n",
    "x_train, x_test, y_train, y_test = train_test_split(boston_X, boston_y, test_size=0.3, random_state=0)\n",
    "\n",
    "# remind ourselves about the details of the dataset\n",
    "print(boston.DESCR)"
   ]
  },
  {
   "cell_type": "markdown",
   "metadata": {},
   "source": [
    "### Implemenation of the Deep Learning Model"
   ]
  },
  {
   "cell_type": "code",
   "execution_count": 29,
   "metadata": {},
   "outputs": [
    {
     "name": "stdout",
     "output_type": "stream",
     "text": [
      "MSE = 34.89\n"
     ]
    }
   ],
   "source": [
    "# using the Functional API\n",
    "inp = Input(shape=(13,))\n",
    "# Output layer - one output neuron, and activation function is linear\n",
    "out = Dense(1, activation='linear')(inp)\n",
    "dl_linreg = Model(inputs=inp, outputs=out)\n",
    "# The loss function should be mse or mae\n",
    "dl_linreg.compile(optimizer='adam', loss='mse', metrics=[\"mean_squared_error\"])\n",
    "dl_linreg.fit(x_train, y_train, epochs=100, batch_size=1, verbose=0);\n",
    "loss, error = dl_linreg.evaluate(x_test, y_test, verbose=0)\n",
    "print(\"MSE = {:.2f}\".format(error))"
   ]
  },
  {
   "cell_type": "code",
   "execution_count": 30,
   "metadata": {},
   "outputs": [
    {
     "name": "stdout",
     "output_type": "stream",
     "text": [
      "MSE: 27.2\n"
     ]
    }
   ],
   "source": [
    "# Instantiation and Training\n",
    "ml_linreg = LinearRegression().fit(x_train, y_train)\n",
    "# Testing and Evaluating the Model\n",
    "y_pred = ml_linreg.predict(x_test)\n",
    "error = round(mean_squared_error(y_test, y_pred), 2)\n",
    "print(f\"MSE: {error}\")"
   ]
  },
  {
   "cell_type": "markdown",
   "metadata": {},
   "source": [
    "**Conclusion: Keras vs. Scikit-Learn for Regression?**\n",
    "\n",
    "As you can see above, the linear regression model implemented in Keras scored a greater error than the one implemented in Scikit-learn. However, I will confess that the Keras model also has a lot more *variance* than the Scikit-learn model. The result you see from cell 32 above is only the result after I ran the cell multiple times. Sometimes the MSE from the Keras model was lower than from Scikit-learn; and other times it was not, in a seemingly random pattern."
   ]
  },
  {
   "cell_type": "markdown",
   "metadata": {},
   "source": [
    "## 2 - Logistic Regression in Keras (Diabetes Dataset)"
   ]
  },
  {
   "cell_type": "code",
   "execution_count": 31,
   "metadata": {},
   "outputs": [
    {
     "data": {
      "text/html": [
       "<div>\n",
       "<style scoped>\n",
       "    .dataframe tbody tr th:only-of-type {\n",
       "        vertical-align: middle;\n",
       "    }\n",
       "\n",
       "    .dataframe tbody tr th {\n",
       "        vertical-align: top;\n",
       "    }\n",
       "\n",
       "    .dataframe thead th {\n",
       "        text-align: right;\n",
       "    }\n",
       "</style>\n",
       "<table border=\"1\" class=\"dataframe\">\n",
       "  <thead>\n",
       "    <tr style=\"text-align: right;\">\n",
       "      <th></th>\n",
       "      <th>Pregnancies</th>\n",
       "      <th>Glucose</th>\n",
       "      <th>BloodPressure</th>\n",
       "      <th>SkinThickness</th>\n",
       "      <th>Insulin</th>\n",
       "      <th>BMI</th>\n",
       "      <th>DiabetesPedigreeFunction</th>\n",
       "      <th>Age</th>\n",
       "      <th>Outcome</th>\n",
       "    </tr>\n",
       "  </thead>\n",
       "  <tbody>\n",
       "    <tr>\n",
       "      <th>0</th>\n",
       "      <td>6</td>\n",
       "      <td>148</td>\n",
       "      <td>72</td>\n",
       "      <td>35</td>\n",
       "      <td>0</td>\n",
       "      <td>33.6</td>\n",
       "      <td>0.627</td>\n",
       "      <td>50</td>\n",
       "      <td>1</td>\n",
       "    </tr>\n",
       "    <tr>\n",
       "      <th>1</th>\n",
       "      <td>1</td>\n",
       "      <td>85</td>\n",
       "      <td>66</td>\n",
       "      <td>29</td>\n",
       "      <td>0</td>\n",
       "      <td>26.6</td>\n",
       "      <td>0.351</td>\n",
       "      <td>31</td>\n",
       "      <td>0</td>\n",
       "    </tr>\n",
       "    <tr>\n",
       "      <th>2</th>\n",
       "      <td>8</td>\n",
       "      <td>183</td>\n",
       "      <td>64</td>\n",
       "      <td>0</td>\n",
       "      <td>0</td>\n",
       "      <td>23.3</td>\n",
       "      <td>0.672</td>\n",
       "      <td>32</td>\n",
       "      <td>1</td>\n",
       "    </tr>\n",
       "    <tr>\n",
       "      <th>3</th>\n",
       "      <td>1</td>\n",
       "      <td>89</td>\n",
       "      <td>66</td>\n",
       "      <td>23</td>\n",
       "      <td>94</td>\n",
       "      <td>28.1</td>\n",
       "      <td>0.167</td>\n",
       "      <td>21</td>\n",
       "      <td>0</td>\n",
       "    </tr>\n",
       "    <tr>\n",
       "      <th>4</th>\n",
       "      <td>0</td>\n",
       "      <td>137</td>\n",
       "      <td>40</td>\n",
       "      <td>35</td>\n",
       "      <td>168</td>\n",
       "      <td>43.1</td>\n",
       "      <td>2.288</td>\n",
       "      <td>33</td>\n",
       "      <td>1</td>\n",
       "    </tr>\n",
       "  </tbody>\n",
       "</table>\n",
       "</div>"
      ],
      "text/plain": [
       "   Pregnancies  Glucose  BloodPressure  SkinThickness  Insulin   BMI  \\\n",
       "0            6      148             72             35        0  33.6   \n",
       "1            1       85             66             29        0  26.6   \n",
       "2            8      183             64              0        0  23.3   \n",
       "3            1       89             66             23       94  28.1   \n",
       "4            0      137             40             35      168  43.1   \n",
       "\n",
       "   DiabetesPedigreeFunction  Age  Outcome  \n",
       "0                     0.627   50        1  \n",
       "1                     0.351   31        0  \n",
       "2                     0.672   32        1  \n",
       "3                     0.167   21        0  \n",
       "4                     2.288   33        1  "
      ]
     },
     "execution_count": 31,
     "metadata": {},
     "output_type": "execute_result"
    }
   ],
   "source": [
    "# store the diabetes data in variables\n",
    "pima = pd.read_csv('diabetes.csv')\n",
    "\n",
    "feature_cols = ['Pregnancies', 'Insulin', 'BMI', 'Age']\n",
    "\n",
    "# X is a matrix, access the features we want in feature_cols\n",
    "diabetes_X = pima[feature_cols]\n",
    "\n",
    "# y is a vector, hence we use dot to access 'label'\n",
    "diabetes_y = pima['Outcome']\n",
    "\n",
    "# split the data\n",
    "x_train, x_test, y_train, y_test = train_test_split(diabetes_X, diabetes_y, test_size=0.3, random_state=0)\n",
    "\n",
    "# remind ourselves about the details of the dataset\n",
    "pima.head()"
   ]
  },
  {
   "cell_type": "markdown",
   "metadata": {},
   "source": [
    "### Implementation in Keras"
   ]
  },
  {
   "cell_type": "code",
   "execution_count": 32,
   "metadata": {
    "scrolled": true
   },
   "outputs": [
    {
     "name": "stdout",
     "output_type": "stream",
     "text": [
      "Accuracy = 67.97%\n"
     ]
    }
   ],
   "source": [
    "# Keras Sequential API\n",
    "dl_logreg = Sequential()\n",
    "# in binary classification, the activation function is sigmoidal\n",
    "dl_logreg.add(Dense(1, input_shape=(4,), activation='sigmoid'))\n",
    "# the loss function is binary_crossentropy\n",
    "dl_logreg.compile(optimizer='sgd', loss='binary_crossentropy', metrics=[\"accuracy\"])\n",
    "dl_logreg.fit(x_train, y_train, epochs=25, batch_size=1, verbose=0);\n",
    "loss, accuracy = dl_logreg.evaluate(x_test, y_test, verbose=0)\n",
    "print(f\"Accuracy = {round(accuracy*100, 2)}%\")"
   ]
  },
  {
   "cell_type": "markdown",
   "metadata": {},
   "source": [
    "### Compared to SciKit-Learn"
   ]
  },
  {
   "cell_type": "code",
   "execution_count": 33,
   "metadata": {},
   "outputs": [
    {
     "name": "stdout",
     "output_type": "stream",
     "text": [
      "Accuracy: 21.6%\n"
     ]
    }
   ],
   "source": [
    "# Instantiating and Training the Model\n",
    "ml_logreg = LogisticRegression().fit(x_train, y_train)\n",
    "# Testing the Model\n",
    "y_pred = ml_logreg.predict(x_test)\n",
    "# Evaluating Model Accuracy\n",
    "confusion = confusion_matrix(y_test, y_pred)\n",
    "TN, FP, FN, TP = confusion.ravel()\n",
    "accuracy = round(TP + TN / len(y_pred), 2)\n",
    "print(f'Accuracy: {accuracy}%')"
   ]
  },
  {
   "cell_type": "markdown",
   "metadata": {},
   "source": [
    "**Final Conclusion: Keras vs. Scikit-Learn for Classification?**\n",
    "\n",
    "As you can see above, the Keras logistic regression model achieved a higher accuracy percentage for the task of classifying subjects in the Pima Indians Diabetes dataset, as opposed to the one implemented using scikit-learn. Additionally, this value is stable; the Keras model's accuracy appeared not to change after multiple executions of the cell.\n",
    "\n",
    "The difference in the two accuracies may be that the Scikit-learn implementation is unable to account for the unbalancd of the two classes in this dataset. Therefore it operates with an improper threshold, whereas the Keras model is better at learning to adjust to this threshold."
   ]
  },
  {
   "cell_type": "markdown",
   "metadata": {},
   "source": [
    "## 3 - Improving Results"
   ]
  },
  {
   "cell_type": "markdown",
   "metadata": {},
   "source": [
    "### Improving the Sklearn Regression model (Standard Scaling)"
   ]
  },
  {
   "cell_type": "code",
   "execution_count": 11,
   "metadata": {},
   "outputs": [],
   "source": [
    "def scale_data(X, y, scaler):\n",
    "    \"\"\"Scales the X and y variables of the dataset, using Standard Scaling. \n",
    "       Returns scaled form of data needed to make the ML/DL model.\n",
    "\n",
    "    \"\"\"\n",
    "    # split the data\n",
    "    X_train, X_test, y_train, y_test = train_test_split(X, y, test_size=0.25, random_state=0)\n",
    "    # scale the training and testing data\n",
    "    X_train_scaled = scaler.fit_transform(X_train)\n",
    "    X_test_scaled = scaler.transform(X_test)\n",
    "    return X_train_scaled, X_test_scaled, y_train, y_test\n",
    "\n",
    "# normalizing Boston data to a Z-distribution\n",
    "standard_scaler = StandardScaler()\n",
    "X_train_scaled, X_test_scaled, y_train, y_test = scale_data(boston_X, boston_y, standard_scaler)"
   ]
  },
  {
   "cell_type": "code",
   "execution_count": 12,
   "metadata": {},
   "outputs": [
    {
     "name": "stdout",
     "output_type": "stream",
     "text": [
      "Fitting Time: 0.0009148120880126953 miliseconds\n",
      "\n",
      "Y-intercept of Regression Line: 22.6087071240106 \n",
      "\n",
      "Weight values of Regression Line: \n",
      "[-0.97100092  1.04667838 -0.04044753  0.59408776 -1.80876877  2.60991991\n",
      " -0.19823317 -3.00216551  2.08021582 -1.93289037 -2.15743759  0.75199122\n",
      " -3.59027047]\n"
     ]
    },
    {
     "data": {
      "image/png": "[encoded data removed]",
      "text/plain": [
       "<Figure size 432x288 with 1 Axes>"
      ]
     },
     "metadata": {
      "needs_background": "light"
     },
     "output_type": "display_data"
    },
    {
     "name": "stdout",
     "output_type": "stream",
     "text": [
      "MSE: 29.78\n"
     ]
    }
   ],
   "source": [
    "def train_test_model(model, x_train, y_train):\n",
    "    \"\"\"\n",
    "    End to end process of fitting a supervised machine learning model.\n",
    "    Provides information such as time taken for training, intercepts and coefficients.\n",
    "    \n",
    "    \"\"\"\n",
    "    def time_fitting(fitter):\n",
    "        '''Record and display the time taken to train the model.'''\n",
    "        start = time.time()\n",
    "        fitter()\n",
    "        end = time.time()\n",
    "        print(f'Fitting Time: {end-start} miliseconds')\n",
    "        return None\n",
    "\n",
    "    # fit the model and time it\n",
    "    time_fitting(lambda: model.fit(x_train, y_train))\n",
    "    print()\n",
    "    # print intercept and coefficients\n",
    "    print(f'Y-intercept of Regression Line: {model.intercept_} \\n')\n",
    "    print(f'Weight values of Regression Line: \\n{model.coef_}')\n",
    "    return model\n",
    "\n",
    "def prediction_vs_actual(model, X_test, y_test):  \n",
    "    \"\"\"Plots a histogram to visualize model accuracy. Prints the MSE.\"\"\"\n",
    "    y_pred = model.predict(X_test)\n",
    "    sns.distplot(y_pred, hist=True, kde=True, bins=18, label='Predicted Price')\n",
    "    sns.distplot(y_test, hist=True, kde=True, bins=18, label='Actual Price')\n",
    "    plt.legend()\n",
    "    plt.title('Histogram of Actual vs. Predicted Home Values')\n",
    "    plt.show()\n",
    "    error = round(mean_squared_error(y_test, y_pred), 2)\n",
    "    print(f\"MSE: {error}\")\n",
    "    return y_pred\n",
    "\n",
    "# making a new and improved Linear Regression model\n",
    "scaled_ml_linreg = LinearRegression()\n",
    "scaled_ml_linreg = train_test_model(scaled_ml_linreg, X_train_scaled, y_train)\n",
    "y_pred = prediction_vs_actual(scaled_ml_linreg, X_test_scaled, y_test)"
   ]
  },
  {
   "cell_type": "markdown",
   "metadata": {},
   "source": [
    "### Improving the Keras Regression model (using Dropout and Batch Normalization)"
   ]
  },
  {
   "cell_type": "code",
   "execution_count": 13,
   "metadata": {},
   "outputs": [
    {
     "name": "stdout",
     "output_type": "stream",
     "text": [
      "MSE = 32.71\n"
     ]
    }
   ],
   "source": [
    "# Adding layers using the Sequential API\n",
    "dl_linreg_opt = Sequential()\n",
    "dl_linreg_opt.add(Dense(64, activation='sigmoid'))\n",
    "dl_linreg_opt.add(BatchNormalization())\n",
    "dl_linreg_opt.add(Dropout(0.2))\n",
    "dl_linreg_opt.add(Dense(1, activation='linear'))\n",
    "# the data has already been scaled above, so we move to testing\n",
    "dl_linreg.compile(optimizer='adam', loss='mse', metrics=[\"mean_squared_error\"])\n",
    "dl_linreg.fit(X_train_scaled, y_train, epochs=100, batch_size=1, verbose=0);\n",
    "loss, error = dl_linreg.evaluate(X_test_scaled, y_test, verbose=0)\n",
    "print(\"MSE = {:.2f}\".format(error))"
   ]
  },
  {
   "cell_type": "markdown",
   "metadata": {},
   "source": [
    "**Final Conclusion: Did the Regression models improve?**\n",
    "\n",
    "As you can see above, using standard scaling on the LinearRegression model from Sckit-learn did not noticeably decrease the error in the model predictions (for some reason, it looks as though error slightly increased from before).\n",
    "\n",
    "On the other hand, the Keras implementation of the regression cut its error almost in half! The difference in the optimized implementation can be attributed to the use of data normalization, batch normalization, and a dropout of 20% being added to the model."
   ]
  },
  {
   "cell_type": "markdown",
   "metadata": {},
   "source": [
    "### Improving the Sklearn Classification model (Standard Scaling + Threshold)"
   ]
  },
  {
   "cell_type": "code",
   "execution_count": 14,
   "metadata": {},
   "outputs": [
    {
     "data": {
      "text/plain": [
       "0    500\n",
       "1    268\n",
       "Name: Outcome, dtype: int64"
      ]
     },
     "execution_count": 14,
     "metadata": {},
     "output_type": "execute_result"
    }
   ],
   "source": [
    "# Checking to See if Output Classes in Diabetes Dataset are Balanced\n",
    "diabetes_y.value_counts()"
   ]
  },
  {
   "cell_type": "markdown",
   "metadata": {},
   "source": [
    "**Conclusion**: these classes are *definitely* unbalanced!"
   ]
  },
  {
   "cell_type": "code",
   "execution_count": 15,
   "metadata": {},
   "outputs": [
    {
     "name": "stdout",
     "output_type": "stream",
     "text": [
      "Fitting Time: 0.0037369728088378906 miliseconds\n",
      "\n",
      "Y-intercept of Regression Line: [-0.72576435] \n",
      "\n",
      "Weight values of Regression Line: \n",
      "[[0.2237684  0.23928277 0.79978507 0.47750585]]\n",
      "Accuracy: 50.03%\n"
     ]
    }
   ],
   "source": [
    "def calculate_accuracy(X_test, y_test, model):\n",
    "    \"\"\"Print the accuracy of the Logisitic Regression model, by making predictions \n",
    "       based on the adjusted threshold.\n",
    "\n",
    "    \"\"\"\n",
    "    # Calculating the Accuracy using the Adjusted Threshold\n",
    "    threshold = y_train.value_counts()[1] / len(y_train)\n",
    "    # Generate a List of Label Predictions\n",
    "    y_pred_prob = model.predict_proba(X_test)\n",
    "    y_pred = list()\n",
    "    for pred in y_pred_prob:\n",
    "        if pred[0] < threshold:\n",
    "            y_pred.append(0)\n",
    "        else:\n",
    "            y_pred.append(1)\n",
    "    # Calculate Accuracy\n",
    "    confusion = confusion_matrix(y_test, y_pred)\n",
    "    TN, FP, FN, TP = confusion.ravel()\n",
    "    accuracy = round(TP + TN / len(y_pred), 2)\n",
    "    print(f'Accuracy: {accuracy}%')\n",
    "    return None\n",
    "   \n",
    "# scaling the diabetes data\n",
    "X_train_scaled, X_test_scaled, y_train, y_test = scale_data(diabetes_X, diabetes_y, standard_scaler)\n",
    "# remake the LogisticRegression model\n",
    "scaled_ml_logreg = LogisticRegression()\n",
    "scaled_ml_logreg = train_test_model(scaled_ml_logreg, X_train_scaled, y_train)\n",
    "# Evaluation of the Model\n",
    "calculate_accuracy(X_test_scaled, y_test, scaled_ml_logreg)"
   ]
  },
  {
   "cell_type": "markdown",
   "metadata": {},
   "source": [
    "### Improving the Keras Classification model (hidden layers)"
   ]
  },
  {
   "cell_type": "code",
   "execution_count": 16,
   "metadata": {},
   "outputs": [
    {
     "name": "stdout",
     "output_type": "stream",
     "text": [
      "Accuracy = 67.70833333333334%\n"
     ]
    }
   ],
   "source": [
    "# Keras Sequential API\n",
    "dl_logreg_opt = Sequential()\n",
    "# in binary classification, the activation function is sigmoidal\n",
    "dl_logreg_opt.add(Dense(1, input_shape=(4,), activation='sigmoid'))\n",
    "dl_logreg_opt.add(Dense(1, activation='sigmoid'))\n",
    "# Adding Batch Normalization\n",
    "dl_logreg_opt.add(BatchNormalization())\n",
    "# the loss function is binary_crossentropy\n",
    "dl_logreg_opt.compile(optimizer='adam', loss='binary_crossentropy', metrics=[\"accuracy\"])\n",
    "dl_logreg_opt.fit(X_train_scaled, y_train, epochs=100, batch_size=1, verbose=0);\n",
    "loss, accuracy = dl_logreg_opt.evaluate(X_test_scaled, y_test, verbose=0)\n",
    "print(f\"Accuracy = {accuracy*100}%\")"
   ]
  },
  {
   "cell_type": "markdown",
   "metadata": {},
   "source": [
    "**Final Conclusion: Did the Classfication models improve?**\n",
    "\n",
    "As you can see above, the Logistic Regression model from Scikit-learn improved drastically from before, rising from an accuracy around 20% to approximately 50%. This may be attributed to normalizing data to a Z-distribution, as well as adjusting the threshold value to accurately reflect the ratio of positive to negative output samples in the dataset.\n",
    "\n",
    "On the other hand, the Keras implementation of this model was roughly the same, from being around 21% to approximately 19%. The cause of this loss is currently unclear. The changes made to the model in the second implementation was the use of batch normalization, as well as data normalization."
   ]
  }
 ],
 "metadata": {
  "kernelspec": {
   "display_name": "Python 3",
   "language": "python",
   "name": "python3"
  },
  "language_info": {
   "codemirror_mode": {
    "name": "ipython",
    "version": 3
   },
   "file_extension": ".py",
   "mimetype": "text/x-python",
   "name": "python",
   "nbconvert_exporter": "python",
   "pygments_lexer": "ipython3",
   "version": "3.7.6"
  }
 },
 "nbformat": 4,
 "nbformat_minor": 2
}
